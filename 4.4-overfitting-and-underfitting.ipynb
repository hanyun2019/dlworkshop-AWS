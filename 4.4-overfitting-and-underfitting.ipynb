{
 "cells": [
  {
   "cell_type": "code",
   "execution_count": 27,
   "metadata": {},
   "outputs": [
    {
     "data": {
      "text/plain": [
       "'2.3.1'"
      ]
     },
     "execution_count": 27,
     "metadata": {},
     "output_type": "execute_result"
    }
   ],
   "source": [
    "import keras\n",
    "keras.__version__"
   ]
  },
  {
   "cell_type": "markdown",
   "metadata": {},
   "source": [
    "# Overfitting and underfitting\n",
    "\n",
    "This notebook contains the code samples found in Chapter 3, Section 6 of [Deep Learning with Python](https://www.manning.com/books/deep-learning-with-python?a_aid=keras&a_bid=76564dff). Note that the original text features far more content, in particular further explanations and figures: in this notebook, you will only find source code and related comments.\n",
    "\n",
    "----\n",
    "\n",
    "\n",
    "In all the examples we saw in the previous chapter -- movie review sentiment prediction, topic classification, and house price regression -- \n",
    "we could notice that the performance of our model on the held-out validation data would always peak after a few epochs and would then start \n",
    "degrading, i.e. our model would quickly start to _overfit_ to the training data. Overfitting happens in every single machine learning \n",
    "problem. Learning how to deal with overfitting is essential to mastering machine learning.\n",
    "\n",
    "The fundamental issue in machine learning is the tension between optimization and generalization. \"Optimization\" refers to the process of \n",
    "adjusting a model to get the best performance possible on the training data (the \"learning\" in \"machine learning\"), while \"generalization\" \n",
    "refers to how well the trained model would perform on data it has never seen before. The goal of the game is to get good generalization, of \n",
    "course, but you do not control generalization; you can only adjust the model based on its training data.\n",
    "\n",
    "At the beginning of training, optimization and generalization are correlated: the lower your loss on training data, the lower your loss on \n",
    "test data. While this is happening, your model is said to be _under-fit_: there is still progress to be made; the network hasn't yet \n",
    "modeled all relevant patterns in the training data. But after a certain number of iterations on the training data, generalization stops \n",
    "improving, validation metrics stall then start degrading: the model is then starting to over-fit, i.e. is it starting to learn patterns \n",
    "that are specific to the training data but that are misleading or irrelevant when it comes to new data.\n",
    "\n",
    "To prevent a model from learning misleading or irrelevant patterns found in the training data, _the best solution is of course to get \n",
    "more training data_. A model trained on more data will naturally generalize better. When that is no longer possible, the next best solution \n",
    "is to modulate the quantity of information that your model is allowed to store, or to add constraints on what information it is allowed to \n",
    "store. If a network can only afford to memorize a small number of patterns, the optimization process will force it to focus on the most \n",
    "prominent patterns, which have a better chance of generalizing well.\n",
    "\n",
    "The processing of fighting overfitting in this way is called _regularization_. Let's review some of the most common regularization \n",
    "techniques, and let's apply them in practice to improve our movie classification model from  the previous chapter."
   ]
  },
  {
   "cell_type": "markdown",
   "metadata": {},
   "source": [
    "Note: in this notebook we will be using the IMDB test set as our validation set. It doesn't matter in this context.\n",
    "\n",
    "Let's prepare the data using the code from Chapter 3, Section 5:"
   ]
  },
  {
   "cell_type": "code",
   "execution_count": 28,
   "metadata": {},
   "outputs": [],
   "source": [
    "from keras.datasets import imdb\n",
    "import numpy as np\n",
    "\n",
    "(train_data, train_labels), (test_data, test_labels) = imdb.load_data(num_words=10000)\n",
    "\n",
    "def vectorize_sequences(sequences, dimension=10000):\n",
    "    # Create an all-zero matrix of shape (len(sequences), dimension)\n",
    "    results = np.zeros((len(sequences), dimension))\n",
    "    for i, sequence in enumerate(sequences):\n",
    "        results[i, sequence] = 1.  # set specific indices of results[i] to 1s\n",
    "    return results\n",
    "\n",
    "# Our vectorized training data\n",
    "x_train = vectorize_sequences(train_data)\n",
    "# Our vectorized test data\n",
    "x_test = vectorize_sequences(test_data)\n",
    "# Our vectorized labels\n",
    "y_train = np.asarray(train_labels).astype('float32')\n",
    "y_test = np.asarray(test_labels).astype('float32')"
   ]
  },
  {
   "cell_type": "markdown",
   "metadata": {},
   "source": [
    "# Fighting overfitting\n",
    "\n",
    "## Reducing the network's size\n",
    "\n",
    "\n",
    "The simplest way to prevent overfitting is to reduce the size of the model, i.e. the number of learnable parameters in the model (which is \n",
    "determined by the number of layers and the number of units per layer). In deep learning, the number of learnable parameters in a model is \n",
    "often referred to as the model's \"capacity\". Intuitively, a model with more parameters will have more \"memorization capacity\" and therefore \n",
    "will be able to easily learn a perfect dictionary-like mapping between training samples and their targets, a mapping without any \n",
    "generalization power. For instance, a model with 500,000 binary parameters could easily be made to learn the class of every digits in the \n",
    "MNIST training set: we would only need 10 binary parameters for each of the 50,000 digits. Such a model would be useless for classifying \n",
    "new digit samples. Always keep this in mind: deep learning models tend to be good at fitting to the training data, but the real challenge \n",
    "is generalization, not fitting.\n",
    "\n",
    "On the other hand, if the network has limited memorization resources, it will not be able to learn this mapping as easily, and thus, in \n",
    "order to minimize its loss, it will have to resort to learning compressed representations that have predictive power regarding the targets \n",
    "-- precisely the type of representations that we are interested in. At the same time, keep in mind that you should be using models that have \n",
    "enough parameters that they won't be underfitting: your model shouldn't be starved for memorization resources. There is a compromise to be \n",
    "found between \"too much capacity\" and \"not enough capacity\".\n",
    "\n",
    "Unfortunately, there is no magical formula to determine what the right number of layers is, or what the right size for each layer is. You \n",
    "will have to evaluate an array of different architectures (on your validation set, not on your test set, of course) in order to find the \n",
    "right model size for your data. The general workflow to find an appropriate model size is to start with relatively few layers and \n",
    "parameters, and start increasing the size of the layers or adding new layers until you see diminishing returns with regard to the \n",
    "validation loss.\n",
    "\n",
    "Let's try this on our movie review classification network. Our original network was as such:"
   ]
  },
  {
   "cell_type": "code",
   "execution_count": 29,
   "metadata": {},
   "outputs": [],
   "source": [
    "from keras import models\n",
    "from keras import layers\n",
    "\n",
    "original_model = models.Sequential()\n",
    "original_model.add(layers.Dense(16, activation='relu', input_shape=(10000,)))\n",
    "original_model.add(layers.Dense(16, activation='relu'))\n",
    "original_model.add(layers.Dense(1, activation='sigmoid'))\n",
    "\n",
    "original_model.compile(optimizer='rmsprop',\n",
    "                       loss='binary_crossentropy',\n",
    "                       metrics=['acc'])"
   ]
  },
  {
   "cell_type": "markdown",
   "metadata": {},
   "source": [
    "Now let's try to replace it with this smaller network:"
   ]
  },
  {
   "cell_type": "code",
   "execution_count": 30,
   "metadata": {},
   "outputs": [],
   "source": [
    "smaller_model = models.Sequential()\n",
    "smaller_model.add(layers.Dense(4, activation='relu', input_shape=(10000,)))\n",
    "smaller_model.add(layers.Dense(4, activation='relu'))\n",
    "smaller_model.add(layers.Dense(1, activation='sigmoid'))\n",
    "\n",
    "smaller_model.compile(optimizer='rmsprop',\n",
    "                      loss='binary_crossentropy',\n",
    "                      metrics=['acc'])"
   ]
  },
  {
   "cell_type": "markdown",
   "metadata": {},
   "source": [
    "\n",
    "Here's a comparison of the validation losses of the original network and the smaller network. The dots are the validation loss values of \n",
    "the smaller network, and the crosses are the initial network (remember: a lower validation loss signals a better model)."
   ]
  },
  {
   "cell_type": "code",
   "execution_count": 31,
   "metadata": {},
   "outputs": [
    {
     "name": "stdout",
     "output_type": "stream",
     "text": [
      "Train on 25000 samples, validate on 25000 samples\n",
      "Epoch 1/20\n",
      "25000/25000 [==============================] - 2s 99us/step - loss: 0.4736 - acc: 0.8163 - val_loss: 0.3475 - val_acc: 0.8793\n",
      "Epoch 2/20\n",
      "25000/25000 [==============================] - 2s 79us/step - loss: 0.2693 - acc: 0.9070 - val_loss: 0.2958 - val_acc: 0.8849\n",
      "Epoch 3/20\n",
      "25000/25000 [==============================] - 2s 79us/step - loss: 0.2066 - acc: 0.9258 - val_loss: 0.2913 - val_acc: 0.8840\n",
      "Epoch 4/20\n",
      "25000/25000 [==============================] - 2s 79us/step - loss: 0.1719 - acc: 0.9400 - val_loss: 0.3031 - val_acc: 0.8798\n",
      "Epoch 5/20\n",
      "25000/25000 [==============================] - 2s 79us/step - loss: 0.1469 - acc: 0.9478 - val_loss: 0.3102 - val_acc: 0.8805\n",
      "Epoch 6/20\n",
      "25000/25000 [==============================] - 2s 80us/step - loss: 0.1273 - acc: 0.9561 - val_loss: 0.3285 - val_acc: 0.8770\n",
      "Epoch 7/20\n",
      "25000/25000 [==============================] - 2s 80us/step - loss: 0.1108 - acc: 0.9625 - val_loss: 0.3505 - val_acc: 0.8745\n",
      "Epoch 8/20\n",
      "25000/25000 [==============================] - 2s 79us/step - loss: 0.1011 - acc: 0.9665 - val_loss: 0.3749 - val_acc: 0.8717\n",
      "Epoch 9/20\n",
      "25000/25000 [==============================] - 2s 79us/step - loss: 0.0854 - acc: 0.9725 - val_loss: 0.4124 - val_acc: 0.8659\n",
      "Epoch 10/20\n",
      "25000/25000 [==============================] - 2s 79us/step - loss: 0.0776 - acc: 0.9747 - val_loss: 0.4489 - val_acc: 0.8626\n",
      "Epoch 11/20\n",
      "25000/25000 [==============================] - 2s 80us/step - loss: 0.0659 - acc: 0.9798 - val_loss: 0.4787 - val_acc: 0.8623\n",
      "Epoch 12/20\n",
      "25000/25000 [==============================] - 2s 81us/step - loss: 0.0590 - acc: 0.9820 - val_loss: 0.5188 - val_acc: 0.8596\n",
      "Epoch 13/20\n",
      "25000/25000 [==============================] - 2s 80us/step - loss: 0.0492 - acc: 0.9860 - val_loss: 0.5442 - val_acc: 0.8579\n",
      "Epoch 14/20\n",
      "25000/25000 [==============================] - 2s 80us/step - loss: 0.0458 - acc: 0.9871 - val_loss: 0.5566 - val_acc: 0.8590\n",
      "Epoch 15/20\n",
      "25000/25000 [==============================] - 2s 79us/step - loss: 0.0384 - acc: 0.9894 - val_loss: 0.5963 - val_acc: 0.8556\n",
      "Epoch 16/20\n",
      "25000/25000 [==============================] - 2s 79us/step - loss: 0.0312 - acc: 0.9924 - val_loss: 0.6263 - val_acc: 0.8547\n",
      "Epoch 17/20\n",
      "25000/25000 [==============================] - 2s 79us/step - loss: 0.0273 - acc: 0.9932 - val_loss: 0.7124 - val_acc: 0.8414\n",
      "Epoch 18/20\n",
      "25000/25000 [==============================] - 2s 79us/step - loss: 0.0224 - acc: 0.9944 - val_loss: 0.6959 - val_acc: 0.8511\n",
      "Epoch 19/20\n",
      "25000/25000 [==============================] - 2s 79us/step - loss: 0.0204 - acc: 0.9948 - val_loss: 0.7341 - val_acc: 0.8514\n",
      "Epoch 20/20\n",
      "25000/25000 [==============================] - 2s 79us/step - loss: 0.0156 - acc: 0.9965 - val_loss: 0.7825 - val_acc: 0.8506\n"
     ]
    }
   ],
   "source": [
    "original_hist = original_model.fit(x_train, y_train,\n",
    "                                   epochs=20,\n",
    "                                   batch_size=512,\n",
    "                                   validation_data=(x_test, y_test))"
   ]
  },
  {
   "cell_type": "code",
   "execution_count": 32,
   "metadata": {},
   "outputs": [
    {
     "name": "stdout",
     "output_type": "stream",
     "text": [
      "Train on 25000 samples, validate on 25000 samples\n",
      "Epoch 1/20\n",
      "25000/25000 [==============================] - 2s 83us/step - loss: 0.5602 - acc: 0.7898 - val_loss: 0.4611 - val_acc: 0.8594\n",
      "Epoch 2/20\n",
      "25000/25000 [==============================] - 2s 77us/step - loss: 0.3742 - acc: 0.8881 - val_loss: 0.3538 - val_acc: 0.8796\n",
      "Epoch 3/20\n",
      "25000/25000 [==============================] - 2s 76us/step - loss: 0.2834 - acc: 0.9091 - val_loss: 0.3055 - val_acc: 0.8864\n",
      "Epoch 4/20\n",
      "25000/25000 [==============================] - 2s 76us/step - loss: 0.2326 - acc: 0.9228 - val_loss: 0.2856 - val_acc: 0.8902\n",
      "Epoch 5/20\n",
      "25000/25000 [==============================] - 2s 76us/step - loss: 0.2004 - acc: 0.9324 - val_loss: 0.2803 - val_acc: 0.8883\n",
      "Epoch 6/20\n",
      "25000/25000 [==============================] - 2s 76us/step - loss: 0.1776 - acc: 0.9388 - val_loss: 0.2800 - val_acc: 0.8885\n",
      "Epoch 7/20\n",
      "25000/25000 [==============================] - 2s 77us/step - loss: 0.1608 - acc: 0.9450 - val_loss: 0.2893 - val_acc: 0.8845\n",
      "Epoch 8/20\n",
      "25000/25000 [==============================] - 2s 77us/step - loss: 0.1470 - acc: 0.9507 - val_loss: 0.2968 - val_acc: 0.8844\n",
      "Epoch 9/20\n",
      "25000/25000 [==============================] - 2s 77us/step - loss: 0.1349 - acc: 0.9554 - val_loss: 0.3121 - val_acc: 0.8783\n",
      "Epoch 10/20\n",
      "25000/25000 [==============================] - 2s 76us/step - loss: 0.1254 - acc: 0.9581 - val_loss: 0.3204 - val_acc: 0.8775\n",
      "Epoch 11/20\n",
      "25000/25000 [==============================] - 2s 79us/step - loss: 0.1162 - acc: 0.9625 - val_loss: 0.3331 - val_acc: 0.8756\n",
      "Epoch 12/20\n",
      "25000/25000 [==============================] - 2s 79us/step - loss: 0.1080 - acc: 0.9656 - val_loss: 0.3427 - val_acc: 0.8750\n",
      "Epoch 13/20\n",
      "25000/25000 [==============================] - 2s 78us/step - loss: 0.1003 - acc: 0.9684 - val_loss: 0.3560 - val_acc: 0.8749\n",
      "Epoch 14/20\n",
      "25000/25000 [==============================] - 2s 78us/step - loss: 0.0938 - acc: 0.9708 - val_loss: 0.3761 - val_acc: 0.8700\n",
      "Epoch 15/20\n",
      "25000/25000 [==============================] - 2s 77us/step - loss: 0.0872 - acc: 0.9728 - val_loss: 0.3937 - val_acc: 0.8673\n",
      "Epoch 16/20\n",
      "25000/25000 [==============================] - 2s 77us/step - loss: 0.0818 - acc: 0.9759 - val_loss: 0.4098 - val_acc: 0.8664\n",
      "Epoch 17/20\n",
      "25000/25000 [==============================] - 2s 77us/step - loss: 0.0760 - acc: 0.9776 - val_loss: 0.4238 - val_acc: 0.8676\n",
      "Epoch 18/20\n",
      "25000/25000 [==============================] - 2s 77us/step - loss: 0.0713 - acc: 0.9792 - val_loss: 0.4439 - val_acc: 0.8642\n",
      "Epoch 19/20\n",
      "25000/25000 [==============================] - 2s 78us/step - loss: 0.0666 - acc: 0.9812 - val_loss: 0.4695 - val_acc: 0.8598\n",
      "Epoch 20/20\n",
      "25000/25000 [==============================] - 2s 77us/step - loss: 0.0621 - acc: 0.9829 - val_loss: 0.4804 - val_acc: 0.8622\n"
     ]
    }
   ],
   "source": [
    "smaller_model_hist = smaller_model.fit(x_train, y_train,\n",
    "                                       epochs=20,\n",
    "                                       batch_size=512,\n",
    "                                       validation_data=(x_test, y_test))"
   ]
  },
  {
   "cell_type": "code",
   "execution_count": 33,
   "metadata": {},
   "outputs": [],
   "source": [
    "epochs = range(1, 21)\n",
    "original_val_loss = original_hist.history['val_loss']\n",
    "smaller_model_val_loss = smaller_model_hist.history['val_loss']"
   ]
  },
  {
   "cell_type": "code",
   "execution_count": 34,
   "metadata": {},
   "outputs": [
    {
     "data": {
      "image/png": "[encoded data removed]",
      "text/plain": [
       "<Figure size 432x288 with 1 Axes>"
      ]
     },
     "metadata": {
      "needs_background": "light"
     },
     "output_type": "display_data"
    }
   ],
   "source": [
    "import matplotlib.pyplot as plt\n",
    "\n",
    "# b+ is for \"blue cross\"\n",
    "plt.plot(epochs, original_val_loss, 'b+', label='Original model')\n",
    "# \"bo\" is for \"blue dot\"\n",
    "plt.plot(epochs, smaller_model_val_loss, 'bo', label='Smaller model')\n",
    "plt.xlabel('Epochs')\n",
    "plt.ylabel('Validation loss')\n",
    "plt.legend()\n",
    "\n",
    "plt.show()"
   ]
  },
  {
   "cell_type": "markdown",
   "metadata": {},
   "source": [
    "\n",
    "As you can see, the smaller network starts overfitting later than the reference one (after 6 epochs rather than 4) and its performance \n",
    "degrades much more slowly once it starts overfitting.\n",
    "\n",
    "Now, for kicks, let's add to this benchmark a network that has much more capacity, far more than the problem would warrant:"
   ]
  },
  {
   "cell_type": "code",
   "execution_count": 35,
   "metadata": {},
   "outputs": [],
   "source": [
    "bigger_model = models.Sequential()\n",
    "bigger_model.add(layers.Dense(512, activation='relu', input_shape=(10000,)))\n",
    "bigger_model.add(layers.Dense(512, activation='relu'))\n",
    "bigger_model.add(layers.Dense(1, activation='sigmoid'))\n",
    "\n",
    "bigger_model.compile(optimizer='rmsprop',\n",
    "                     loss='binary_crossentropy',\n",
    "                     metrics=['acc'])"
   ]
  },
  {
   "cell_type": "code",
   "execution_count": 36,
   "metadata": {},
   "outputs": [
    {
     "name": "stdout",
     "output_type": "stream",
     "text": [
      "Train on 25000 samples, validate on 25000 samples\n",
      "Epoch 1/20\n",
      "25000/25000 [==============================] - 6s 252us/step - loss: 0.4725 - acc: 0.8140 - val_loss: 0.3078 - val_acc: 0.8714\n",
      "Epoch 2/20\n",
      "25000/25000 [==============================] - 6s 246us/step - loss: 0.2128 - acc: 0.9153 - val_loss: 0.2770 - val_acc: 0.8882\n",
      "Epoch 3/20\n",
      "25000/25000 [==============================] - 6s 243us/step - loss: 0.1357 - acc: 0.9476 - val_loss: 0.2894 - val_acc: 0.8838\n",
      "Epoch 4/20\n",
      "25000/25000 [==============================] - 6s 245us/step - loss: 0.0565 - acc: 0.9818 - val_loss: 0.3681 - val_acc: 0.8834\n",
      "Epoch 5/20\n",
      "25000/25000 [==============================] - 6s 244us/step - loss: 0.0679 - acc: 0.9860 - val_loss: 0.4357 - val_acc: 0.8840\n",
      "Epoch 6/20\n",
      "25000/25000 [==============================] - 6s 244us/step - loss: 0.0494 - acc: 0.9892 - val_loss: 0.5165 - val_acc: 0.8799\n",
      "Epoch 7/20\n",
      "25000/25000 [==============================] - 6s 244us/step - loss: 0.0016 - acc: 1.0000 - val_loss: 0.7182 - val_acc: 0.8827\n",
      "Epoch 8/20\n",
      "25000/25000 [==============================] - 6s 238us/step - loss: 2.5311e-04 - acc: 1.0000 - val_loss: 1.1806 - val_acc: 0.8500\n",
      "Epoch 9/20\n",
      "25000/25000 [==============================] - 6s 242us/step - loss: 0.1185 - acc: 0.9884 - val_loss: 0.7426 - val_acc: 0.8794\n",
      "Epoch 10/20\n",
      "25000/25000 [==============================] - 6s 243us/step - loss: 1.1133e-04 - acc: 1.0000 - val_loss: 0.9393 - val_acc: 0.8778\n",
      "Epoch 11/20\n",
      "25000/25000 [==============================] - 6s 244us/step - loss: 0.1303 - acc: 0.9898 - val_loss: 0.8589 - val_acc: 0.8748\n",
      "Epoch 12/20\n",
      "25000/25000 [==============================] - 6s 243us/step - loss: 2.4228e-04 - acc: 1.0000 - val_loss: 0.8977 - val_acc: 0.8774\n",
      "Epoch 13/20\n",
      "25000/25000 [==============================] - 6s 244us/step - loss: 1.4930e-05 - acc: 1.0000 - val_loss: 0.9937 - val_acc: 0.8776\n",
      "Epoch 14/20\n",
      "25000/25000 [==============================] - 6s 243us/step - loss: 4.0758e-06 - acc: 1.0000 - val_loss: 1.1353 - val_acc: 0.8782\n",
      "Epoch 15/20\n",
      "25000/25000 [==============================] - 6s 243us/step - loss: 7.7231e-07 - acc: 1.0000 - val_loss: 1.2936 - val_acc: 0.8793\n",
      "Epoch 16/20\n",
      "25000/25000 [==============================] - 6s 244us/step - loss: 1.4749e-07 - acc: 1.0000 - val_loss: 1.4132 - val_acc: 0.8786\n",
      "Epoch 17/20\n",
      "25000/25000 [==============================] - 6s 245us/step - loss: 3.9914e-08 - acc: 1.0000 - val_loss: 1.5167 - val_acc: 0.8787\n",
      "Epoch 18/20\n",
      "25000/25000 [==============================] - 6s 242us/step - loss: 1.8546e-08 - acc: 1.0000 - val_loss: 1.5639 - val_acc: 0.8786\n",
      "Epoch 19/20\n",
      "25000/25000 [==============================] - 6s 239us/step - loss: 1.1919e-08 - acc: 1.0000 - val_loss: 1.5971 - val_acc: 0.8788\n",
      "Epoch 20/20\n",
      "25000/25000 [==============================] - 6s 243us/step - loss: 8.8254e-09 - acc: 1.0000 - val_loss: 1.6186 - val_acc: 0.8787\n"
     ]
    }
   ],
   "source": [
    "bigger_model_hist = bigger_model.fit(x_train, y_train,\n",
    "                                     epochs=20,\n",
    "                                     batch_size=512,\n",
    "                                     validation_data=(x_test, y_test))"
   ]
  },
  {
   "cell_type": "markdown",
   "metadata": {},
   "source": [
    "Here's how the bigger network fares compared to the reference one. The dots are the validation loss values of the bigger network, and the \n",
    "crosses are the initial network."
   ]
  },
  {
   "cell_type": "code",
   "execution_count": 37,
   "metadata": {},
   "outputs": [
    {
     "data": {
      "image/png": "[encoded data removed]",
      "text/plain": [
       "<Figure size 432x288 with 1 Axes>"
      ]
     },
     "metadata": {
      "needs_background": "light"
     },
     "output_type": "display_data"
    }
   ],
   "source": [
    "bigger_model_val_loss = bigger_model_hist.history['val_loss']\n",
    "\n",
    "plt.plot(epochs, original_val_loss, 'b+', label='Original model')\n",
    "plt.plot(epochs, bigger_model_val_loss, 'bo', label='Bigger model')\n",
    "plt.xlabel('Epochs')\n",
    "plt.ylabel('Validation loss')\n",
    "plt.legend()\n",
    "\n",
    "plt.show()"
   ]
  },
  {
   "cell_type": "markdown",
   "metadata": {},
   "source": [
    "\n",
    "The bigger network starts overfitting almost right away, after just one epoch, and overfits much more severely. Its validation loss is also \n",
    "more noisy.\n",
    "\n",
    "Meanwhile, here are the training losses for our two networks:"
   ]
  },
  {
   "cell_type": "code",
   "execution_count": 38,
   "metadata": {},
   "outputs": [
    {
     "data": {
      "image/png": "[encoded data removed]",
      "text/plain": [
       "<Figure size 432x288 with 1 Axes>"
      ]
     },
     "metadata": {
      "needs_background": "light"
     },
     "output_type": "display_data"
    }
   ],
   "source": [
    "original_train_loss = original_hist.history['loss']\n",
    "bigger_model_train_loss = bigger_model_hist.history['loss']\n",
    "\n",
    "plt.plot(epochs, original_train_loss, 'b+', label='Original model')\n",
    "plt.plot(epochs, bigger_model_train_loss, 'bo', label='Bigger model')\n",
    "plt.xlabel('Epochs')\n",
    "plt.ylabel('Training loss')\n",
    "plt.legend()\n",
    "\n",
    "plt.show()"
   ]
  },
  {
   "cell_type": "markdown",
   "metadata": {},
   "source": [
    "As you can see, the bigger network gets its training loss near zero very quickly. The more capacity the network has, the quicker it will be \n",
    "able to model the training data (resulting in a low training loss), but the more susceptible it is to overfitting (resulting in a large \n",
    "difference between the training and validation loss)."
   ]
  },
  {
   "cell_type": "markdown",
   "metadata": {},
   "source": [
    "## Adding weight regularization\n",
    "\n",
    "\n",
    "You may be familiar with _Occam's Razor_ principle: given two explanations for something, the explanation most likely to be correct is the \n",
    "\"simplest\" one, the one that makes the least amount of assumptions. This also applies to the models learned by neural networks: given some \n",
    "training data and a network architecture, there are multiple sets of weights values (multiple _models_) that could explain the data, and \n",
    "simpler models are less likely to overfit than complex ones.\n",
    "\n",
    "A \"simple model\" in this context is a model where the distribution of parameter values has less entropy (or a model with fewer \n",
    "parameters altogether, as we saw in the section above). Thus a common way to mitigate overfitting is to put constraints on the complexity \n",
    "of a network by forcing its weights to only take small values, which makes the distribution of weight values more \"regular\". This is called \n",
    "\"weight regularization\", and it is done by adding to the loss function of the network a _cost_ associated with having large weights. This \n",
    "cost comes in two flavors:\n",
    "\n",
    "* L1 regularization, where the cost added is proportional to the _absolute value of the weights coefficients_ (i.e. to what is called the \n",
    "\"L1 norm\" of the weights).\n",
    "* L2 regularization, where the cost added is proportional to the _square of the value of the weights coefficients_ (i.e. to what is called \n",
    "the \"L2 norm\" of the weights). L2 regularization is also called _weight decay_ in the context of neural networks. Don't let the different \n",
    "name confuse you: weight decay is mathematically the exact same as L2 regularization.\n",
    "\n",
    "In Keras, weight regularization is added by passing _weight regularizer instances_ to layers as keyword arguments. Let's add L2 weight \n",
    "regularization to our movie review classification network:"
   ]
  },
  {
   "cell_type": "code",
   "execution_count": 39,
   "metadata": {},
   "outputs": [],
   "source": [
    "from keras import regularizers\n",
    "\n",
    "l2_model = models.Sequential()\n",
    "l2_model.add(layers.Dense(16, kernel_regularizer=regularizers.l2(0.001),\n",
    "                          activation='relu', input_shape=(10000,)))\n",
    "l2_model.add(layers.Dense(16, kernel_regularizer=regularizers.l2(0.001),\n",
    "                          activation='relu'))\n",
    "l2_model.add(layers.Dense(1, activation='sigmoid'))"
   ]
  },
  {
   "cell_type": "code",
   "execution_count": 40,
   "metadata": {},
   "outputs": [],
   "source": [
    "l2_model.compile(optimizer='rmsprop',\n",
    "                 loss='binary_crossentropy',\n",
    "                 metrics=['acc'])"
   ]
  },
  {
   "cell_type": "markdown",
   "metadata": {},
   "source": [
    "`l2(0.001)` means that every coefficient in the weight matrix of the layer will add `0.001 * weight_coefficient_value` to the total loss of \n",
    "the network. Note that because this penalty is _only added at training time_, the loss for this network will be much higher at training \n",
    "than at test time.\n",
    "\n",
    "Here's the impact of our L2 regularization penalty:"
   ]
  },
  {
   "cell_type": "code",
   "execution_count": 41,
   "metadata": {},
   "outputs": [
    {
     "name": "stdout",
     "output_type": "stream",
     "text": [
      "Train on 25000 samples, validate on 25000 samples\n",
      "Epoch 1/20\n",
      "25000/25000 [==============================] - 2s 95us/step - loss: 0.5270 - acc: 0.8167 - val_loss: 0.4056 - val_acc: 0.8776\n",
      "Epoch 2/20\n",
      "25000/25000 [==============================] - 2s 89us/step - loss: 0.3285 - acc: 0.9031 - val_loss: 0.3407 - val_acc: 0.8842\n",
      "Epoch 3/20\n",
      "25000/25000 [==============================] - 2s 89us/step - loss: 0.2700 - acc: 0.9205 - val_loss: 0.3241 - val_acc: 0.8889\n",
      "Epoch 4/20\n",
      "25000/25000 [==============================] - 2s 89us/step - loss: 0.2456 - acc: 0.9284 - val_loss: 0.3238 - val_acc: 0.8884\n",
      "Epoch 5/20\n",
      "25000/25000 [==============================] - 2s 89us/step - loss: 0.2320 - acc: 0.9334 - val_loss: 0.3575 - val_acc: 0.8742\n",
      "Epoch 6/20\n",
      "25000/25000 [==============================] - 2s 90us/step - loss: 0.2220 - acc: 0.9377 - val_loss: 0.3502 - val_acc: 0.8789\n",
      "Epoch 7/20\n",
      "25000/25000 [==============================] - 2s 89us/step - loss: 0.2127 - acc: 0.9424 - val_loss: 0.3787 - val_acc: 0.8696\n",
      "Epoch 8/20\n",
      "25000/25000 [==============================] - 2s 89us/step - loss: 0.2065 - acc: 0.9452 - val_loss: 0.3515 - val_acc: 0.8789\n",
      "Epoch 9/20\n",
      "25000/25000 [==============================] - 2s 90us/step - loss: 0.2014 - acc: 0.9471 - val_loss: 0.3579 - val_acc: 0.8785\n",
      "Epoch 10/20\n",
      "25000/25000 [==============================] - 2s 90us/step - loss: 0.1984 - acc: 0.9471 - val_loss: 0.3929 - val_acc: 0.8689\n",
      "Epoch 11/20\n",
      "25000/25000 [==============================] - 2s 90us/step - loss: 0.1928 - acc: 0.9508 - val_loss: 0.3861 - val_acc: 0.8715\n",
      "Epoch 12/20\n",
      "25000/25000 [==============================] - 2s 89us/step - loss: 0.1909 - acc: 0.9512 - val_loss: 0.3884 - val_acc: 0.8720\n",
      "Epoch 13/20\n",
      "25000/25000 [==============================] - 2s 89us/step - loss: 0.1880 - acc: 0.9529 - val_loss: 0.3866 - val_acc: 0.8722\n",
      "Epoch 14/20\n",
      "25000/25000 [==============================] - 2s 89us/step - loss: 0.1870 - acc: 0.9510 - val_loss: 0.4082 - val_acc: 0.8688\n",
      "Epoch 15/20\n",
      "25000/25000 [==============================] - 2s 89us/step - loss: 0.1808 - acc: 0.9548 - val_loss: 0.3937 - val_acc: 0.8716\n",
      "Epoch 16/20\n",
      "25000/25000 [==============================] - 2s 90us/step - loss: 0.1825 - acc: 0.9541 - val_loss: 0.3994 - val_acc: 0.8704\n",
      "Epoch 17/20\n",
      "25000/25000 [==============================] - 2s 90us/step - loss: 0.1757 - acc: 0.9572 - val_loss: 0.4088 - val_acc: 0.8694\n",
      "Epoch 18/20\n",
      "25000/25000 [==============================] - 2s 89us/step - loss: 0.1747 - acc: 0.9572 - val_loss: 0.4167 - val_acc: 0.8683\n",
      "Epoch 19/20\n",
      "25000/25000 [==============================] - 2s 89us/step - loss: 0.1722 - acc: 0.9588 - val_loss: 0.4622 - val_acc: 0.8584\n",
      "Epoch 20/20\n",
      "25000/25000 [==============================] - 2s 89us/step - loss: 0.1736 - acc: 0.9571 - val_loss: 0.4289 - val_acc: 0.8642\n"
     ]
    }
   ],
   "source": [
    "l2_model_hist = l2_model.fit(x_train, y_train,\n",
    "                             epochs=20,\n",
    "                             batch_size=512,\n",
    "                             validation_data=(x_test, y_test))"
   ]
  },
  {
   "cell_type": "code",
   "execution_count": 43,
   "metadata": {},
   "outputs": [
    {
     "data": {
      "image/png": "[encoded data removed]",
      "text/plain": [
       "<Figure size 432x288 with 1 Axes>"
      ]
     },
     "metadata": {
      "needs_background": "light"
     },
     "output_type": "display_data"
    }
   ],
   "source": [
    "l2_model_val_loss = l2_model_hist.history['val_loss']\n",
    "\n",
    "plt.plot(epochs, original_val_loss, 'b+', label='Original model')\n",
    "plt.plot(epochs, l2_model_val_loss, 'bo', label='L2-regularized model')\n",
    "plt.xlabel('Epochs')\n",
    "plt.ylabel('Validation loss')\n",
    "plt.legend()\n",
    "\n",
    "plt.show()"
   ]
  },
  {
   "cell_type": "markdown",
   "metadata": {},
   "source": [
    "\n",
    "\n",
    "As you can see, the model with L2 regularization (dots) has become much more resistant to overfitting than the reference model (crosses), \n",
    "even though both models have the same number of parameters.\n",
    "\n",
    "As alternatives to L2 regularization, you could use one of the following Keras weight regularizers:"
   ]
  },
  {
   "cell_type": "code",
   "execution_count": 24,
   "metadata": {},
   "outputs": [
    {
     "data": {
      "text/plain": [
       "<keras.regularizers.L1L2 at 0x7fd32c6d5d90>"
      ]
     },
     "execution_count": 24,
     "metadata": {},
     "output_type": "execute_result"
    }
   ],
   "source": [
    "from keras import regularizers\n",
    "\n",
    "# L1 regularization\n",
    "regularizers.l1(0.001)\n",
    "\n",
    "# L1 and L2 regularization at the same time\n",
    "regularizers.l1_l2(l1=0.001, l2=0.001)"
   ]
  },
  {
   "cell_type": "markdown",
   "metadata": {},
   "source": [
    "## Adding dropout\n",
    "\n",
    "\n",
    "Dropout is one of the most effective and most commonly used regularization techniques for neural networks, developed by Hinton and his \n",
    "students at the University of Toronto. Dropout, applied to a layer, consists of randomly \"dropping out\" (i.e. setting to zero) a number of \n",
    "output features of the layer during training. Let's say a given layer would normally have returned a vector `[0.2, 0.5, 1.3, 0.8, 1.1]` for a \n",
    "given input sample during training; after applying dropout, this vector will have a few zero entries distributed at random, e.g. `[0, 0.5, \n",
    "1.3, 0, 1.1]`. The \"dropout rate\" is the fraction of the features that are being zeroed-out; it is usually set between 0.2 and 0.5. At test \n",
    "time, no units are dropped out, and instead the layer's output values are scaled down by a factor equal to the dropout rate, so as to \n",
    "balance for the fact that more units are active than at training time.\n",
    "\n",
    "Consider a Numpy matrix containing the output of a layer, `layer_output`, of shape `(batch_size, features)`. At training time, we would be \n",
    "zero-ing out at random a fraction of the values in the matrix:"
   ]
  },
  {
   "cell_type": "code",
   "execution_count": 44,
   "metadata": {},
   "outputs": [
    {
     "ename": "NameError",
     "evalue": "name 'layer_output' is not defined",
     "output_type": "error",
     "traceback": [
      "\u001b[0;31m---------------------------------------------------------------------------\u001b[0m",
      "\u001b[0;31mNameError\u001b[0m                                 Traceback (most recent call last)",
      "\u001b[0;32m<ipython-input-44-f1f187ff4a2c>\u001b[0m in \u001b[0;36m<module>\u001b[0;34m\u001b[0m\n\u001b[1;32m      1\u001b[0m \u001b[0;31m# At training time: we drop out 50% of the units in the output\u001b[0m\u001b[0;34m\u001b[0m\u001b[0;34m\u001b[0m\u001b[0;34m\u001b[0m\u001b[0m\n\u001b[0;32m----> 2\u001b[0;31m \u001b[0mlayer_output\u001b[0m \u001b[0;34m*=\u001b[0m \u001b[0mnp\u001b[0m\u001b[0;34m.\u001b[0m\u001b[0mrandint\u001b[0m\u001b[0;34m(\u001b[0m\u001b[0;36m0\u001b[0m\u001b[0;34m,\u001b[0m \u001b[0mhigh\u001b[0m\u001b[0;34m=\u001b[0m\u001b[0;36m2\u001b[0m\u001b[0;34m,\u001b[0m \u001b[0msize\u001b[0m\u001b[0;34m=\u001b[0m\u001b[0mlayer_output\u001b[0m\u001b[0;34m.\u001b[0m\u001b[0mshape\u001b[0m\u001b[0;34m)\u001b[0m\u001b[0;34m\u001b[0m\u001b[0;34m\u001b[0m\u001b[0m\n\u001b[0m",
      "\u001b[0;31mNameError\u001b[0m: name 'layer_output' is not defined"
     ]
    }
   ],
   "source": [
    "# At training time: we drop out 50% of the units in the output\n",
    "layer_output *= np.randint(0, high=2, size=layer_output.shape)"
   ]
  },
  {
   "cell_type": "markdown",
   "metadata": {},
   "source": [
    "\n",
    "At test time, we would be scaling the output down by the dropout rate. Here we scale by 0.5 (because we were previous dropping half the \n",
    "units):"
   ]
  },
  {
   "cell_type": "code",
   "execution_count": null,
   "metadata": {
    "collapsed": true
   },
   "outputs": [],
   "source": [
    "# At test time:\n",
    "layer_output *= 0.5"
   ]
  },
  {
   "cell_type": "markdown",
   "metadata": {},
   "source": [
    "\n",
    "Note that this process can be implemented by doing both operations at training time and leaving the output unchanged at test time, which is \n",
    "often the way it is implemented in practice:"
   ]
  },
  {
   "cell_type": "code",
   "execution_count": null,
   "metadata": {
    "collapsed": true
   },
   "outputs": [],
   "source": [
    "# At training time:\n",
    "layer_output *= np.randint(0, high=2, size=layer_output.shape)\n",
    "# Note that we are scaling *up* rather scaling *down* in this case\n",
    "layer_output /= 0.5"
   ]
  },
  {
   "cell_type": "markdown",
   "metadata": {},
   "source": [
    "\n",
    "This technique may seem strange and arbitrary. Why would this help reduce overfitting? Geoff Hinton has said that he was inspired, among \n",
    "other things, by a fraud prevention mechanism used by banks -- in his own words: _\"I went to my bank. The tellers kept changing and I asked \n",
    "one of them why. He said he didn’t know but they got moved around a lot. I figured it must be because it would require cooperation \n",
    "between employees to successfully defraud the bank. This made me realize that randomly removing a different subset of neurons on each \n",
    "example would prevent conspiracies and thus reduce overfitting\"_.\n",
    "\n",
    "The core idea is that introducing noise in the output values of a layer can break up happenstance patterns that are not significant (what \n",
    "Hinton refers to as \"conspiracies\"), which the network would start memorizing if no noise was present. \n",
    "\n",
    "In Keras you can introduce dropout in a network via the `Dropout` layer, which gets applied to the output of layer right before it, e.g.:"
   ]
  },
  {
   "cell_type": "code",
   "execution_count": 26,
   "metadata": {},
   "outputs": [
    {
     "ename": "NameError",
     "evalue": "name 'model' is not defined",
     "output_type": "error",
     "traceback": [
      "\u001b[0;31m---------------------------------------------------------------------------\u001b[0m",
      "\u001b[0;31mNameError\u001b[0m                                 Traceback (most recent call last)",
      "\u001b[0;32m<ipython-input-26-65ed89de200e>\u001b[0m in \u001b[0;36m<module>\u001b[0;34m\u001b[0m\n\u001b[0;32m----> 1\u001b[0;31m \u001b[0mmodel\u001b[0m\u001b[0;34m.\u001b[0m\u001b[0madd\u001b[0m\u001b[0;34m(\u001b[0m\u001b[0mlayers\u001b[0m\u001b[0;34m.\u001b[0m\u001b[0mDropout\u001b[0m\u001b[0;34m(\u001b[0m\u001b[0;36m0.5\u001b[0m\u001b[0;34m)\u001b[0m\u001b[0;34m)\u001b[0m\u001b[0;34m\u001b[0m\u001b[0;34m\u001b[0m\u001b[0m\n\u001b[0m",
      "\u001b[0;31mNameError\u001b[0m: name 'model' is not defined"
     ]
    }
   ],
   "source": [
    "model.add(layers.Dropout(0.5))"
   ]
  },
  {
   "cell_type": "markdown",
   "metadata": {},
   "source": [
    "Let's add two `Dropout` layers in our IMDB network to see how well they do at reducing overfitting:"
   ]
  },
  {
   "cell_type": "code",
   "execution_count": 45,
   "metadata": {},
   "outputs": [],
   "source": [
    "dpt_model = models.Sequential()\n",
    "dpt_model.add(layers.Dense(16, activation='relu', input_shape=(10000,)))\n",
    "dpt_model.add(layers.Dropout(0.5))\n",
    "dpt_model.add(layers.Dense(16, activation='relu'))\n",
    "dpt_model.add(layers.Dropout(0.5))\n",
    "dpt_model.add(layers.Dense(1, activation='sigmoid'))\n",
    "\n",
    "dpt_model.compile(optimizer='rmsprop',\n",
    "                  loss='binary_crossentropy',\n",
    "                  metrics=['acc'])"
   ]
  },
  {
   "cell_type": "code",
   "execution_count": 46,
   "metadata": {},
   "outputs": [
    {
     "name": "stdout",
     "output_type": "stream",
     "text": [
      "Train on 25000 samples, validate on 25000 samples\n",
      "Epoch 1/20\n",
      "25000/25000 [==============================] - 2s 95us/step - loss: 0.6104 - acc: 0.6679 - val_loss: 0.4861 - val_acc: 0.8532\n",
      "Epoch 2/20\n",
      "25000/25000 [==============================] - 2s 80us/step - loss: 0.4558 - acc: 0.8148 - val_loss: 0.3636 - val_acc: 0.8792\n",
      "Epoch 3/20\n",
      "25000/25000 [==============================] - 2s 76us/step - loss: 0.3633 - acc: 0.8712 - val_loss: 0.3056 - val_acc: 0.8858\n",
      "Epoch 4/20\n",
      "25000/25000 [==============================] - 2s 86us/step - loss: 0.3028 - acc: 0.8972 - val_loss: 0.2809 - val_acc: 0.8887\n",
      "Epoch 5/20\n",
      "25000/25000 [==============================] - 2s 77us/step - loss: 0.2633 - acc: 0.9132 - val_loss: 0.2970 - val_acc: 0.8768\n",
      "Epoch 6/20\n",
      "25000/25000 [==============================] - 2s 88us/step - loss: 0.2362 - acc: 0.9208 - val_loss: 0.2931 - val_acc: 0.8861\n",
      "Epoch 7/20\n",
      "25000/25000 [==============================] - 2s 81us/step - loss: 0.2124 - acc: 0.9292 - val_loss: 0.3024 - val_acc: 0.8829\n",
      "Epoch 8/20\n",
      "25000/25000 [==============================] - 2s 81us/step - loss: 0.1917 - acc: 0.9366 - val_loss: 0.3229 - val_acc: 0.8832\n",
      "Epoch 9/20\n",
      "25000/25000 [==============================] - 2s 77us/step - loss: 0.1739 - acc: 0.9414 - val_loss: 0.3514 - val_acc: 0.8837\n",
      "Epoch 10/20\n",
      "25000/25000 [==============================] - 2s 85us/step - loss: 0.1633 - acc: 0.9478 - val_loss: 0.3668 - val_acc: 0.8798\n",
      "Epoch 11/20\n",
      "25000/25000 [==============================] - 2s 81us/step - loss: 0.1507 - acc: 0.9522 - val_loss: 0.3931 - val_acc: 0.8796\n",
      "Epoch 12/20\n",
      "25000/25000 [==============================] - 2s 77us/step - loss: 0.1445 - acc: 0.9527 - val_loss: 0.4171 - val_acc: 0.8670\n",
      "Epoch 13/20\n",
      "25000/25000 [==============================] - 2s 86us/step - loss: 0.1324 - acc: 0.9569 - val_loss: 0.4405 - val_acc: 0.8724\n",
      "Epoch 14/20\n",
      "25000/25000 [==============================] - 2s 81us/step - loss: 0.1298 - acc: 0.9575 - val_loss: 0.4493 - val_acc: 0.8742\n",
      "Epoch 15/20\n",
      "25000/25000 [==============================] - 2s 77us/step - loss: 0.1263 - acc: 0.9590 - val_loss: 0.4836 - val_acc: 0.8745\n",
      "Epoch 16/20\n",
      "25000/25000 [==============================] - 2s 80us/step - loss: 0.1154 - acc: 0.9626 - val_loss: 0.5021 - val_acc: 0.8728\n",
      "Epoch 17/20\n",
      "25000/25000 [==============================] - 2s 77us/step - loss: 0.1112 - acc: 0.9640 - val_loss: 0.5490 - val_acc: 0.8734\n",
      "Epoch 18/20\n",
      "25000/25000 [==============================] - 2s 76us/step - loss: 0.1142 - acc: 0.9638 - val_loss: 0.5648 - val_acc: 0.8726\n",
      "Epoch 19/20\n",
      "25000/25000 [==============================] - 2s 79us/step - loss: 0.1090 - acc: 0.9670 - val_loss: 0.5811 - val_acc: 0.8723\n",
      "Epoch 20/20\n",
      "25000/25000 [==============================] - 2s 84us/step - loss: 0.1087 - acc: 0.9673 - val_loss: 0.5796 - val_acc: 0.8671\n"
     ]
    }
   ],
   "source": [
    "dpt_model_hist = dpt_model.fit(x_train, y_train,\n",
    "                               epochs=20,\n",
    "                               batch_size=512,\n",
    "                               validation_data=(x_test, y_test))"
   ]
  },
  {
   "cell_type": "markdown",
   "metadata": {},
   "source": [
    "Let's plot the results:"
   ]
  },
  {
   "cell_type": "code",
   "execution_count": 47,
   "metadata": {},
   "outputs": [
    {
     "data": {
      "image/png": "[encoded data removed]",
      "text/plain": [
       "<Figure size 432x288 with 1 Axes>"
      ]
     },
     "metadata": {
      "needs_background": "light"
     },
     "output_type": "display_data"
    }
   ],
   "source": [
    "dpt_model_val_loss = dpt_model_hist.history['val_loss']\n",
    "\n",
    "plt.plot(epochs, original_val_loss, 'b+', label='Original model')\n",
    "plt.plot(epochs, dpt_model_val_loss, 'bo', label='Dropout-regularized model')\n",
    "plt.xlabel('Epochs')\n",
    "plt.ylabel('Validation loss')\n",
    "plt.legend()\n",
    "\n",
    "plt.show()"
   ]
  },
  {
   "cell_type": "markdown",
   "metadata": {},
   "source": [
    "\n",
    "Again, a clear improvement over the reference network.\n",
    "\n",
    "To recap: here the most common ways to prevent overfitting in neural networks:\n",
    "\n",
    "* Getting more training data.\n",
    "* Reducing the capacity of the network.\n",
    "* Adding weight regularization.\n",
    "* Adding dropout."
   ]
  }
 ],
 "metadata": {
  "kernelspec": {
   "display_name": "Python 3",
   "language": "python",
   "name": "python3"
  },
  "language_info": {
   "codemirror_mode": {
    "name": "ipython",
    "version": 3
   },
   "file_extension": ".py",
   "mimetype": "text/x-python",
   "name": "python",
   "nbconvert_exporter": "python",
   "pygments_lexer": "ipython3",
   "version": "3.7.4"
  }
 },
 "nbformat": 4,
 "nbformat_minor": 2
}
