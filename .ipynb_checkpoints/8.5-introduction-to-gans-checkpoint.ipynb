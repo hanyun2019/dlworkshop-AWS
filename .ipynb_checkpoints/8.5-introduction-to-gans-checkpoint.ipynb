{
 "cells": [
  {
   "cell_type": "code",
   "execution_count": 1,
   "metadata": {},
   "outputs": [
    {
     "name": "stderr",
     "output_type": "stream",
     "text": [
      "Using TensorFlow backend.\n"
     ]
    },
    {
     "data": {
      "text/plain": [
       "'2.3.1'"
      ]
     },
     "execution_count": 1,
     "metadata": {},
     "output_type": "execute_result"
    }
   ],
   "source": [
    "import keras\n",
    "keras.__version__"
   ]
  },
  {
   "cell_type": "markdown",
   "metadata": {},
   "source": [
    "# Introduction to generative adversarial networks\n",
    "\n",
    "This notebook contains the second code sample found in Chapter 8, Section 5 of [Deep Learning with Python](https://www.manning.com/books/deep-learning-with-python?a_aid=keras&a_bid=76564dff). Note that the original text features far more content, in particular further explanations and figures: in this notebook, you will only find source code and related comments.\n",
    "\n",
    "---\n",
    "[...]"
   ]
  },
  {
   "cell_type": "markdown",
   "metadata": {},
   "source": [
    "## A schematic GAN implementation\n",
    "\n",
    "\n",
    "In what follows, we explain how to implement a GAN in Keras, in its barest form -- since GANs are quite advanced, diving deeply into the \n",
    "technical details would be out of scope for us. Our specific implementation will be a deep convolutional GAN, or DCGAN: a GAN where the \n",
    "generator and discriminator are deep convnets. In particular, it leverages a `Conv2DTranspose` layer for image upsampling in the generator.\n",
    "\n",
    "We will train our GAN on images from CIFAR10, a dataset of 50,000 32x32 RGB images belong to 10 classes (5,000 images per class). To make \n",
    "things even easier, we will only use images belonging to the class \"frog\".\n",
    "\n",
    "Schematically, our GAN looks like this:\n",
    "\n",
    "* A `generator` network maps vectors of shape `(latent_dim,)` to images of shape `(32, 32, 3)`.\n",
    "* A `discriminator` network maps images of shape (32, 32, 3) to a binary score estimating the probability that the image is real.\n",
    "* A `gan` network chains the generator and the discriminator together: `gan(x) = discriminator(generator(x))`. Thus this `gan` network maps \n",
    "latent space vectors to the discriminator's assessment of the realism of these latent vectors as decoded by the generator.\n",
    "* We train the discriminator using examples of real and fake images along with \"real\"/\"fake\" labels, as we would train any regular image \n",
    "classification model.\n",
    "* To train the generator, we use the gradients of the generator's weights with regard to the loss of the `gan` model. This means that, at \n",
    "every step, we move the weights of the generator in a direction that will make the discriminator more likely to classify as \"real\" the \n",
    "images decoded by the generator. I.e. we train the generator to fool the discriminator."
   ]
  },
  {
   "cell_type": "markdown",
   "metadata": {},
   "source": [
    "## A bag of tricks\n",
    "\n",
    "\n",
    "Training GANs and tuning GAN implementations is notoriously difficult. There are a number of known \"tricks\" that one should keep in mind. \n",
    "Like most things in deep learning, it is more alchemy than science: these tricks are really just heuristics, not theory-backed guidelines. \n",
    "They are backed by some level of intuitive understanding of the phenomenon at hand, and they are known to work well empirically, albeit not \n",
    "necessarily in every context.\n",
    "\n",
    "Here are a few of the tricks that we leverage in our own implementation of a GAN generator and discriminator below. It is not an exhaustive \n",
    "list of GAN-related tricks; you will find many more across the GAN literature.\n",
    "\n",
    "* We use `tanh` as the last activation in the generator, instead of `sigmoid`, which would be more commonly found in other types of models.\n",
    "* We sample points from the latent space using a _normal distribution_ (Gaussian distribution), not a uniform distribution.\n",
    "* Stochasticity is good to induce robustness. Since GAN training results in a dynamic equilibrium, GANs are likely to get \"stuck\" in all sorts of ways. \n",
    "Introducing randomness during training helps prevent this. We introduce randomness in two ways: 1) we use dropout in the discriminator, 2) \n",
    "we add some random noise to the labels for the discriminator.\n",
    "* Sparse gradients can hinder GAN training. In deep learning, sparsity is often a desirable property, but not in GANs. There are two things \n",
    "that can induce gradient sparsity: 1) max pooling operations, 2) ReLU activations. Instead of max pooling, we recommend using strided \n",
    "convolutions for downsampling, and we recommend using a `LeakyReLU` layer instead of a ReLU activation. It is similar to ReLU but it \n",
    "relaxes sparsity constraints by allowing small negative activation values.\n",
    "* In generated images, it is common to see \"checkerboard artifacts\" caused by unequal coverage of the pixel space in the generator. To fix \n",
    "this, we use a kernel size that is divisible by the stride size, whenever we use a strided `Conv2DTranpose` or `Conv2D` in both the \n",
    "generator and discriminator."
   ]
  },
  {
   "cell_type": "markdown",
   "metadata": {},
   "source": [
    "## The generator\n",
    "\n",
    "\n",
    "First, we develop a `generator` model, which turns a vector (from the latent space -- during training it will sampled at random) into a \n",
    "candidate image. One of the many issues that commonly arise with GANs is that the generator gets stuck with generated images that look like \n",
    "noise. A possible solution is to use dropout on both the discriminator and generator."
   ]
  },
  {
   "cell_type": "code",
   "execution_count": 2,
   "metadata": {},
   "outputs": [
    {
     "name": "stdout",
     "output_type": "stream",
     "text": [
      "Model: \"model_1\"\n",
      "_________________________________________________________________\n",
      "Layer (type)                 Output Shape              Param #   \n",
      "=================================================================\n",
      "input_1 (InputLayer)         (None, 32)                0         \n",
      "_________________________________________________________________\n",
      "dense_1 (Dense)              (None, 32768)             1081344   \n",
      "_________________________________________________________________\n",
      "leaky_re_lu_1 (LeakyReLU)    (None, 32768)             0         \n",
      "_________________________________________________________________\n",
      "reshape_1 (Reshape)          (None, 16, 16, 128)       0         \n",
      "_________________________________________________________________\n",
      "conv2d_1 (Conv2D)            (None, 16, 16, 256)       819456    \n",
      "_________________________________________________________________\n",
      "leaky_re_lu_2 (LeakyReLU)    (None, 16, 16, 256)       0         \n",
      "_________________________________________________________________\n",
      "conv2d_transpose_1 (Conv2DTr (None, 32, 32, 256)       1048832   \n",
      "_________________________________________________________________\n",
      "leaky_re_lu_3 (LeakyReLU)    (None, 32, 32, 256)       0         \n",
      "_________________________________________________________________\n",
      "conv2d_2 (Conv2D)            (None, 32, 32, 256)       1638656   \n",
      "_________________________________________________________________\n",
      "leaky_re_lu_4 (LeakyReLU)    (None, 32, 32, 256)       0         \n",
      "_________________________________________________________________\n",
      "conv2d_3 (Conv2D)            (None, 32, 32, 256)       1638656   \n",
      "_________________________________________________________________\n",
      "leaky_re_lu_5 (LeakyReLU)    (None, 32, 32, 256)       0         \n",
      "_________________________________________________________________\n",
      "conv2d_4 (Conv2D)            (None, 32, 32, 3)         37635     \n",
      "=================================================================\n",
      "Total params: 6,264,579\n",
      "Trainable params: 6,264,579\n",
      "Non-trainable params: 0\n",
      "_________________________________________________________________\n"
     ]
    }
   ],
   "source": [
    "import keras\n",
    "from keras import layers\n",
    "import numpy as np\n",
    "\n",
    "latent_dim = 32\n",
    "height = 32\n",
    "width = 32\n",
    "channels = 3\n",
    "\n",
    "generator_input = keras.Input(shape=(latent_dim,))\n",
    "\n",
    "# First, transform the input into a 16x16 128-channels feature map\n",
    "x = layers.Dense(128 * 16 * 16)(generator_input)\n",
    "x = layers.LeakyReLU()(x)\n",
    "x = layers.Reshape((16, 16, 128))(x)\n",
    "\n",
    "# Then, add a convolution layer\n",
    "x = layers.Conv2D(256, 5, padding='same')(x)\n",
    "x = layers.LeakyReLU()(x)\n",
    "\n",
    "# Upsample to 32x32\n",
    "x = layers.Conv2DTranspose(256, 4, strides=2, padding='same')(x)\n",
    "x = layers.LeakyReLU()(x)\n",
    "\n",
    "# Few more conv layers\n",
    "x = layers.Conv2D(256, 5, padding='same')(x)\n",
    "x = layers.LeakyReLU()(x)\n",
    "x = layers.Conv2D(256, 5, padding='same')(x)\n",
    "x = layers.LeakyReLU()(x)\n",
    "\n",
    "# Produce a 32x32 1-channel feature map\n",
    "x = layers.Conv2D(channels, 7, activation='tanh', padding='same')(x)\n",
    "generator = keras.models.Model(generator_input, x)\n",
    "generator.summary()"
   ]
  },
  {
   "cell_type": "markdown",
   "metadata": {},
   "source": [
    "## The discriminator\n",
    "\n",
    "\n",
    "Then, we develop a `discriminator` model, that takes as input a candidate image (real or synthetic) and classifies it into one of two \n",
    "classes, either \"generated image\" or \"real image that comes from the training set\"."
   ]
  },
  {
   "cell_type": "code",
   "execution_count": 3,
   "metadata": {},
   "outputs": [
    {
     "name": "stdout",
     "output_type": "stream",
     "text": [
      "Model: \"model_2\"\n",
      "_________________________________________________________________\n",
      "Layer (type)                 Output Shape              Param #   \n",
      "=================================================================\n",
      "input_2 (InputLayer)         (None, 32, 32, 3)         0         \n",
      "_________________________________________________________________\n",
      "conv2d_5 (Conv2D)            (None, 30, 30, 128)       3584      \n",
      "_________________________________________________________________\n",
      "leaky_re_lu_6 (LeakyReLU)    (None, 30, 30, 128)       0         \n",
      "_________________________________________________________________\n",
      "conv2d_6 (Conv2D)            (None, 14, 14, 128)       262272    \n",
      "_________________________________________________________________\n",
      "leaky_re_lu_7 (LeakyReLU)    (None, 14, 14, 128)       0         \n",
      "_________________________________________________________________\n",
      "conv2d_7 (Conv2D)            (None, 6, 6, 128)         262272    \n",
      "_________________________________________________________________\n",
      "leaky_re_lu_8 (LeakyReLU)    (None, 6, 6, 128)         0         \n",
      "_________________________________________________________________\n",
      "conv2d_8 (Conv2D)            (None, 2, 2, 128)         262272    \n",
      "_________________________________________________________________\n",
      "leaky_re_lu_9 (LeakyReLU)    (None, 2, 2, 128)         0         \n",
      "_________________________________________________________________\n",
      "flatten_1 (Flatten)          (None, 512)               0         \n",
      "_________________________________________________________________\n",
      "dropout_1 (Dropout)          (None, 512)               0         \n",
      "_________________________________________________________________\n",
      "dense_2 (Dense)              (None, 1)                 513       \n",
      "=================================================================\n",
      "Total params: 790,913\n",
      "Trainable params: 790,913\n",
      "Non-trainable params: 0\n",
      "_________________________________________________________________\n"
     ]
    }
   ],
   "source": [
    "discriminator_input = layers.Input(shape=(height, width, channels))\n",
    "x = layers.Conv2D(128, 3)(discriminator_input)\n",
    "x = layers.LeakyReLU()(x)\n",
    "x = layers.Conv2D(128, 4, strides=2)(x)\n",
    "x = layers.LeakyReLU()(x)\n",
    "x = layers.Conv2D(128, 4, strides=2)(x)\n",
    "x = layers.LeakyReLU()(x)\n",
    "x = layers.Conv2D(128, 4, strides=2)(x)\n",
    "x = layers.LeakyReLU()(x)\n",
    "x = layers.Flatten()(x)\n",
    "\n",
    "# One dropout layer - important trick!\n",
    "x = layers.Dropout(0.4)(x)\n",
    "\n",
    "# Classification layer\n",
    "x = layers.Dense(1, activation='sigmoid')(x)\n",
    "\n",
    "discriminator = keras.models.Model(discriminator_input, x)\n",
    "discriminator.summary()\n",
    "\n",
    "# To stabilize training, we use learning rate decay\n",
    "# and gradient clipping (by value) in the optimizer.\n",
    "discriminator_optimizer = keras.optimizers.RMSprop(lr=0.0008, clipvalue=1.0, decay=1e-8)\n",
    "discriminator.compile(optimizer=discriminator_optimizer, loss='binary_crossentropy')"
   ]
  },
  {
   "cell_type": "markdown",
   "metadata": {},
   "source": [
    "## The adversarial network\n",
    "\n",
    "Finally, we setup the GAN, which chains the generator and the discriminator. This is the model that, when trained, will move the generator \n",
    "in a direction that improves its ability to fool the discriminator. This model turns latent space points into a classification decision, \n",
    "\"fake\" or \"real\", and it is meant to be trained with labels that are always \"these are real images\". So training `gan` will updates the \n",
    "weights of `generator` in a way that makes `discriminator` more likely to predict \"real\" when looking at fake images. Very importantly, we \n",
    "set the discriminator to be frozen during training (non-trainable): its weights will not be updated when training `gan`. If the \n",
    "discriminator weights could be updated during this process, then we would be training the discriminator to always predict \"real\", which is \n",
    "not what we want!"
   ]
  },
  {
   "cell_type": "code",
   "execution_count": 4,
   "metadata": {},
   "outputs": [],
   "source": [
    "# Set discriminator weights to non-trainable\n",
    "# (will only apply to the `gan` model)\n",
    "discriminator.trainable = False\n",
    "\n",
    "gan_input = keras.Input(shape=(latent_dim,))\n",
    "gan_output = discriminator(generator(gan_input))\n",
    "gan = keras.models.Model(gan_input, gan_output)\n",
    "\n",
    "gan_optimizer = keras.optimizers.RMSprop(lr=0.0004, clipvalue=1.0, decay=1e-8)\n",
    "gan.compile(optimizer=gan_optimizer, loss='binary_crossentropy')"
   ]
  },
  {
   "cell_type": "markdown",
   "metadata": {},
   "source": [
    "## How to train your DCGAN\n",
    "\n",
    "Now we can start training. To recapitulate, this is schematically what the training loop looks like:\n",
    "\n",
    "```\n",
    "for each epoch:\n",
    "    * Draw random points in the latent space (random noise).\n",
    "    * Generate images with `generator` using this random noise.\n",
    "    * Mix the generated images with real ones.\n",
    "    * Train `discriminator` using these mixed images, with corresponding targets, either \"real\" (for the real images) or \"fake\" (for the generated images).\n",
    "    * Draw new random points in the latent space.\n",
    "    * Train `gan` using these random vectors, with targets that all say \"these are real images\". This will update the weights of the generator (only, since discriminator is frozen inside `gan`) to move them towards getting the discriminator to predict \"these are real images\" for generated images, i.e. this trains the generator to fool the discriminator.\n",
    "```\n",
    "\n",
    "Let's implement it:"
   ]
  },
  {
   "cell_type": "code",
   "execution_count": 5,
   "metadata": {},
   "outputs": [
    {
     "name": "stdout",
     "output_type": "stream",
     "text": [
      "Downloading data from https://www.cs.toronto.edu/~kriz/cifar-10-python.tar.gz\n",
      "170500096/170498071 [==============================] - 26s 0us/step\n"
     ]
    },
    {
     "name": "stderr",
     "output_type": "stream",
     "text": [
      "/home/ubuntu/anaconda3/lib/python3.7/site-packages/keras/engine/training.py:297: UserWarning: Discrepancy between trainable weights and collected trainable weights, did you set `model.trainable` without calling `model.compile` after ?\n",
      "  'Discrepancy between trainable weights and collected trainable'\n"
     ]
    },
    {
     "name": "stdout",
     "output_type": "stream",
     "text": [
      "discriminator loss at step 0: 0.69563454\n",
      "adversarial loss at step 0: 0.70071006\n"
     ]
    },
    {
     "name": "stderr",
     "output_type": "stream",
     "text": [
      "/home/ubuntu/anaconda3/lib/python3.7/site-packages/keras/engine/training.py:297: UserWarning: Discrepancy between trainable weights and collected trainable weights, did you set `model.trainable` without calling `model.compile` after ?\n",
      "  'Discrepancy between trainable weights and collected trainable'\n"
     ]
    },
    {
     "name": "stdout",
     "output_type": "stream",
     "text": [
      "discriminator loss at step 100: 0.7055157\n",
      "adversarial loss at step 100: 0.71437895\n",
      "discriminator loss at step 200: 0.69923705\n",
      "adversarial loss at step 200: 0.80967635\n",
      "discriminator loss at step 300: 0.70594597\n",
      "adversarial loss at step 300: 0.7487062\n",
      "discriminator loss at step 400: 0.6993333\n",
      "adversarial loss at step 400: 0.7489966\n",
      "discriminator loss at step 500: 0.68654317\n",
      "adversarial loss at step 500: 0.76388013\n",
      "discriminator loss at step 600: 0.70137274\n",
      "adversarial loss at step 600: 0.73127663\n",
      "discriminator loss at step 700: 0.6974926\n",
      "adversarial loss at step 700: 0.72969836\n",
      "discriminator loss at step 800: 0.70537156\n",
      "adversarial loss at step 800: 0.7457376\n",
      "discriminator loss at step 900: 0.6778294\n",
      "adversarial loss at step 900: 0.76193964\n",
      "discriminator loss at step 1000: 0.7111284\n",
      "adversarial loss at step 1000: 0.79412925\n",
      "discriminator loss at step 1100: 0.69497085\n",
      "adversarial loss at step 1100: 0.73250234\n",
      "discriminator loss at step 1200: 0.7072827\n",
      "adversarial loss at step 1200: 0.7469896\n",
      "discriminator loss at step 1300: 0.69449955\n",
      "adversarial loss at step 1300: 0.59876573\n",
      "discriminator loss at step 1500: 0.6939729\n",
      "adversarial loss at step 1500: 0.7452191\n",
      "discriminator loss at step 1600: 0.70382273\n",
      "adversarial loss at step 1600: 0.7804048\n",
      "discriminator loss at step 1700: 0.69351435\n",
      "adversarial loss at step 1700: 0.74895674\n",
      "discriminator loss at step 1800: 0.6992383\n",
      "adversarial loss at step 1800: 0.75198185\n",
      "discriminator loss at step 1900: 0.6799291\n",
      "adversarial loss at step 1900: 0.72329396\n",
      "discriminator loss at step 2000: 0.6935132\n",
      "adversarial loss at step 2000: 0.724436\n",
      "discriminator loss at step 2100: 0.70430595\n",
      "adversarial loss at step 2100: 0.7507969\n",
      "discriminator loss at step 2200: 0.6996908\n",
      "adversarial loss at step 2200: 0.76096946\n",
      "discriminator loss at step 2300: 0.7090715\n",
      "adversarial loss at step 2300: 0.7310316\n",
      "discriminator loss at step 2400: 0.6942441\n",
      "adversarial loss at step 2400: 0.7154347\n",
      "discriminator loss at step 2500: 0.6915537\n",
      "adversarial loss at step 2500: 0.7543008\n",
      "discriminator loss at step 2600: 0.7022643\n",
      "adversarial loss at step 2600: 0.7638026\n",
      "discriminator loss at step 2700: 0.68571883\n",
      "adversarial loss at step 2700: 0.7755711\n",
      "discriminator loss at step 2800: 0.75799865\n",
      "adversarial loss at step 2800: 0.7630957\n",
      "discriminator loss at step 2900: 0.70230657\n",
      "adversarial loss at step 2900: 0.7602097\n",
      "discriminator loss at step 3000: 0.6993321\n",
      "adversarial loss at step 3000: 0.7797576\n",
      "discriminator loss at step 3100: 0.68536913\n",
      "adversarial loss at step 3100: 0.75439596\n",
      "discriminator loss at step 3200: 0.68505776\n",
      "adversarial loss at step 3200: 0.7418612\n",
      "discriminator loss at step 3300: 0.690736\n",
      "adversarial loss at step 3300: 0.7454415\n",
      "discriminator loss at step 3400: 0.7090343\n",
      "adversarial loss at step 3400: 0.7477337\n",
      "discriminator loss at step 3500: 0.7002374\n",
      "adversarial loss at step 3500: 0.71798605\n",
      "discriminator loss at step 3600: 0.689699\n",
      "adversarial loss at step 3600: 0.8123733\n",
      "discriminator loss at step 3700: 0.6931119\n",
      "adversarial loss at step 3700: 0.7591313\n",
      "discriminator loss at step 3800: 0.70733464\n",
      "adversarial loss at step 3800: 0.75795877\n",
      "discriminator loss at step 3900: 0.6901378\n",
      "adversarial loss at step 3900: 0.7265562\n",
      "discriminator loss at step 4000: 0.6936267\n",
      "adversarial loss at step 4000: 0.6474465\n",
      "discriminator loss at step 4100: 0.68881714\n",
      "adversarial loss at step 4100: 0.74650365\n",
      "discriminator loss at step 4200: 0.69968706\n",
      "adversarial loss at step 4200: 0.7639008\n",
      "discriminator loss at step 4300: 0.7157256\n",
      "adversarial loss at step 4300: 0.7281911\n",
      "discriminator loss at step 4400: 0.69926566\n",
      "adversarial loss at step 4400: 0.7583369\n",
      "discriminator loss at step 4500: 0.72414684\n",
      "adversarial loss at step 4500: 0.7744544\n",
      "discriminator loss at step 4600: 0.6982021\n",
      "adversarial loss at step 4600: 0.6962811\n",
      "discriminator loss at step 4700: 0.6989225\n",
      "adversarial loss at step 4700: 0.7689315\n",
      "discriminator loss at step 4800: 0.687608\n",
      "adversarial loss at step 4800: 0.74289846\n",
      "discriminator loss at step 4900: 0.68739015\n",
      "adversarial loss at step 4900: 0.7665749\n",
      "discriminator loss at step 5000: 0.6985502\n",
      "adversarial loss at step 5000: 0.71655077\n",
      "discriminator loss at step 5100: 0.7092007\n",
      "adversarial loss at step 5100: 0.7763566\n",
      "discriminator loss at step 5300: 0.734557\n",
      "adversarial loss at step 5300: 0.82493526\n",
      "discriminator loss at step 5400: 0.72428113\n",
      "adversarial loss at step 5400: 0.7036618\n",
      "discriminator loss at step 5600: 0.69569916\n",
      "adversarial loss at step 5600: 0.76550066\n",
      "discriminator loss at step 5700: 0.71646756\n",
      "adversarial loss at step 5700: 0.7577777\n",
      "discriminator loss at step 5800: 0.6938593\n",
      "adversarial loss at step 5800: 0.64886063\n",
      "discriminator loss at step 5900: 0.7145155\n",
      "adversarial loss at step 5900: 0.7576415\n",
      "discriminator loss at step 6000: 0.7020131\n",
      "adversarial loss at step 6000: 0.7988719\n",
      "discriminator loss at step 6100: 0.6847765\n",
      "adversarial loss at step 6100: 0.75212944\n",
      "discriminator loss at step 6200: 0.67868596\n",
      "adversarial loss at step 6200: 0.82016003\n",
      "discriminator loss at step 6300: 0.68973917\n",
      "adversarial loss at step 6300: 0.84956187\n",
      "discriminator loss at step 6400: 0.68045485\n",
      "adversarial loss at step 6400: 0.65662336\n",
      "discriminator loss at step 6500: 0.6502296\n",
      "adversarial loss at step 6500: 0.8208005\n",
      "discriminator loss at step 6600: 0.69396335\n",
      "adversarial loss at step 6600: 0.7883522\n",
      "discriminator loss at step 6700: 0.72462994\n",
      "adversarial loss at step 6700: 0.9690275\n",
      "discriminator loss at step 6800: 0.70267123\n",
      "adversarial loss at step 6800: 0.84664536\n",
      "discriminator loss at step 6900: 0.7205209\n",
      "adversarial loss at step 6900: 0.6735735\n",
      "discriminator loss at step 7000: 0.663373\n",
      "adversarial loss at step 7000: 0.75172514\n",
      "discriminator loss at step 7100: 0.6651069\n",
      "adversarial loss at step 7100: 0.7434701\n",
      "discriminator loss at step 7200: 0.710852\n",
      "adversarial loss at step 7200: 0.70850486\n",
      "discriminator loss at step 7300: 0.66381943\n",
      "adversarial loss at step 7300: 0.80390394\n",
      "discriminator loss at step 7400: 0.66362995\n",
      "adversarial loss at step 7400: 0.760505\n",
      "discriminator loss at step 7500: 0.7011914\n",
      "adversarial loss at step 7500: 0.737069\n",
      "discriminator loss at step 7600: 0.7100771\n",
      "adversarial loss at step 7600: 0.84775865\n",
      "discriminator loss at step 7700: 0.8172878\n",
      "adversarial loss at step 7700: 1.1525352\n",
      "discriminator loss at step 7800: 0.67301446\n",
      "adversarial loss at step 7800: 0.8230828\n",
      "discriminator loss at step 7900: 0.6750738\n",
      "adversarial loss at step 7900: 0.8202079\n",
      "discriminator loss at step 8000: 0.78978264\n",
      "adversarial loss at step 8000: 0.99059737\n",
      "discriminator loss at step 8100: 0.68577653\n",
      "adversarial loss at step 8100: 0.77723205\n",
      "discriminator loss at step 8200: 0.6960448\n",
      "adversarial loss at step 8200: 0.8328282\n",
      "discriminator loss at step 8300: 0.6458031\n",
      "adversarial loss at step 8300: 0.8702633\n",
      "discriminator loss at step 8400: 0.67774475\n",
      "adversarial loss at step 8400: 0.8276121\n",
      "discriminator loss at step 8500: 0.6751281\n",
      "adversarial loss at step 8500: 0.81419146\n",
      "discriminator loss at step 8600: 0.67146647\n",
      "adversarial loss at step 8600: 0.7905694\n",
      "discriminator loss at step 8700: 0.70849514\n",
      "adversarial loss at step 8700: 0.7767504\n",
      "discriminator loss at step 8800: 0.65968406\n",
      "adversarial loss at step 8800: 0.7793103\n",
      "discriminator loss at step 8900: 0.5769435\n",
      "adversarial loss at step 8900: 5.947776\n",
      "discriminator loss at step 9000: 0.6632365\n",
      "adversarial loss at step 9000: 0.78951293\n",
      "discriminator loss at step 9100: 0.6697031\n",
      "adversarial loss at step 9100: 0.94493926\n",
      "discriminator loss at step 9200: 0.69593346\n",
      "adversarial loss at step 9200: 0.8008998\n",
      "discriminator loss at step 9300: 0.6604025\n",
      "adversarial loss at step 9300: 0.82784635\n",
      "discriminator loss at step 9400: 0.6819886\n",
      "adversarial loss at step 9400: 0.8571038\n",
      "discriminator loss at step 9500: 0.69247705\n",
      "adversarial loss at step 9500: 0.81698304\n",
      "discriminator loss at step 9600: 0.6467823\n",
      "adversarial loss at step 9600: 0.72145873\n",
      "discriminator loss at step 9700: 0.6996609\n",
      "adversarial loss at step 9700: 0.7173296\n",
      "discriminator loss at step 9800: 0.7244396\n",
      "adversarial loss at step 9800: 0.7768838\n",
      "discriminator loss at step 9900: 0.6765193\n",
      "adversarial loss at step 9900: 0.7869737\n"
     ]
    }
   ],
   "source": [
    "import os\n",
    "from keras.preprocessing import image\n",
    "\n",
    "# Load CIFAR10 data\n",
    "(x_train, y_train), (_, _) = keras.datasets.cifar10.load_data()\n",
    "\n",
    "# Select frog images (class 6)\n",
    "x_train = x_train[y_train.flatten() == 6]\n",
    "\n",
    "# Normalize data\n",
    "x_train = x_train.reshape(\n",
    "    (x_train.shape[0],) + (height, width, channels)).astype('float32') / 255.\n",
    "\n",
    "iterations = 10000\n",
    "batch_size = 20\n",
    "# save_dir = '/home/ubuntu/gan_images/'\n",
    "save_dir = '/home/ubuntu/environment/dlworkshop-AWS/gan_images/'\n",
    "\n",
    "# Start training loop\n",
    "start = 0\n",
    "for step in range(iterations):\n",
    "    # Sample random points in the latent space\n",
    "    random_latent_vectors = np.random.normal(size=(batch_size, latent_dim))\n",
    "\n",
    "    # Decode them to fake images\n",
    "    generated_images = generator.predict(random_latent_vectors)\n",
    "\n",
    "    # Combine them with real images\n",
    "    stop = start + batch_size\n",
    "    real_images = x_train[start: stop]\n",
    "    combined_images = np.concatenate([generated_images, real_images])\n",
    "\n",
    "    # Assemble labels discriminating real from fake images\n",
    "    labels = np.concatenate([np.ones((batch_size, 1)),\n",
    "                             np.zeros((batch_size, 1))])\n",
    "    # Add random noise to the labels - important trick!\n",
    "    labels += 0.05 * np.random.random(labels.shape)\n",
    "\n",
    "    # Train the discriminator\n",
    "    d_loss = discriminator.train_on_batch(combined_images, labels)\n",
    "\n",
    "    # sample random points in the latent space\n",
    "    random_latent_vectors = np.random.normal(size=(batch_size, latent_dim))\n",
    "\n",
    "    # Assemble labels that say \"all real images\"\n",
    "    misleading_targets = np.zeros((batch_size, 1))\n",
    "\n",
    "    # Train the generator (via the gan model,\n",
    "    # where the discriminator weights are frozen)\n",
    "    a_loss = gan.train_on_batch(random_latent_vectors, misleading_targets)\n",
    "    \n",
    "    start += batch_size\n",
    "    if start > len(x_train) - batch_size:\n",
    "      start = 0\n",
    "\n",
    "    # Occasionally save / plot\n",
    "    if step % 100 == 0:\n",
    "        # Save model weights\n",
    "        gan.save_weights('gan.h5')\n",
    "\n",
    "        # Print metrics\n",
    "        print('discriminator loss at step %s: %s' % (step, d_loss))\n",
    "        print('adversarial loss at step %s: %s' % (step, a_loss))\n",
    "\n",
    "        # Save one generated image\n",
    "        img = image.array_to_img(generated_images[0] * 255., scale=False)\n",
    "        img.save(os.path.join(save_dir, 'generated_frog' + str(step) + '.png'))\n",
    "\n",
    "        # Save one real image, for comparison\n",
    "        img = image.array_to_img(real_images[0] * 255., scale=False)\n",
    "        img.save(os.path.join(save_dir, 'real_frog' + str(step) + '.png'))"
   ]
  },
  {
   "cell_type": "markdown",
   "metadata": {
    "collapsed": true
   },
   "source": [
    "Let's display a few of our fake images:"
   ]
  },
  {
   "cell_type": "code",
   "execution_count": 7,
   "metadata": {},
   "outputs": [
    {
     "data": {
      "image/png": "[encoded data removed]",
      "text/plain": [
       "<Figure size 432x288 with 1 Axes>"
      ]
     },
     "metadata": {
      "needs_background": "light"
     },
     "output_type": "display_data"
    },
    {
     "data": {
      "image/png": "[encoded data removed]",
      "text/plain": [
       "<Figure size 432x288 with 1 Axes>"
      ]
     },
     "metadata": {
      "needs_background": "light"
     },
     "output_type": "display_data"
    },
    {
     "data": {
      "image/png": "[encoded data removed]",
      "text/plain": [
       "<Figure size 432x288 with 1 Axes>"
      ]
     },
     "metadata": {
      "needs_background": "light"
     },
     "output_type": "display_data"
    },
    {
     "data": {
      "image/png": "[encoded data removed]",
      "text/plain": [
       "<Figure size 432x288 with 1 Axes>"
      ]
     },
     "metadata": {
      "needs_background": "light"
     },
     "output_type": "display_data"
    },
    {
     "data": {
      "image/png": "[encoded data removed]",
      "text/plain": [
       "<Figure size 432x288 with 1 Axes>"
      ]
     },
     "metadata": {
      "needs_background": "light"
     },
     "output_type": "display_data"
    },
    {
     "data": {
      "image/png": "[encoded data removed]",
      "text/plain": [
       "<Figure size 432x288 with 1 Axes>"
      ]
     },
     "metadata": {
      "needs_background": "light"
     },
     "output_type": "display_data"
    },
    {
     "data": {
      "image/png": "[encoded data removed]",
      "text/plain": [
       "<Figure size 432x288 with 1 Axes>"
      ]
     },
     "metadata": {
      "needs_background": "light"
     },
     "output_type": "display_data"
    },
    {
     "data": {
      "image/png": "[encoded data removed]",
      "text/plain": [
       "<Figure size 432x288 with 1 Axes>"
      ]
     },
     "metadata": {
      "needs_background": "light"
     },
     "output_type": "display_data"
    },
    {
     "data": {
      "image/png": "[encoded data removed]",
      "text/plain": [
       "<Figure size 432x288 with 1 Axes>"
      ]
     },
     "metadata": {
      "needs_background": "light"
     },
     "output_type": "display_data"
    },
    {
     "data": {
      "image/png": "[encoded data removed]",
      "text/plain": [
       "<Figure size 432x288 with 1 Axes>"
      ]
     },
     "metadata": {
      "needs_background": "light"
     },
     "output_type": "display_data"
    }
   ],
   "source": [
    "import matplotlib.pyplot as plt\n",
    "\n",
    "# Sample random points in the latent space\n",
    "random_latent_vectors = np.random.normal(size=(10, latent_dim))\n",
    "\n",
    "# Decode them to fake images\n",
    "generated_images = generator.predict(random_latent_vectors)\n",
    "\n",
    "for i in range(generated_images.shape[0]):\n",
    "    img = image.array_to_img(generated_images[i] * 255., scale=False)\n",
    "    plt.figure()\n",
    "    plt.imshow(img)\n",
    "    \n",
    "plt.show()"
   ]
  },
  {
   "cell_type": "markdown",
   "metadata": {},
   "source": [
    "Froggy with some pixellated artifacts."
   ]
  }
 ],
 "metadata": {
  "kernelspec": {
   "display_name": "Python 3",
   "language": "python",
   "name": "python3"
  },
  "language_info": {
   "codemirror_mode": {
    "name": "ipython",
    "version": 3
   },
   "file_extension": ".py",
   "mimetype": "text/x-python",
   "name": "python",
   "nbconvert_exporter": "python",
   "pygments_lexer": "ipython3",
   "version": "3.7.4"
  }
 },
 "nbformat": 4,
 "nbformat_minor": 2
}
