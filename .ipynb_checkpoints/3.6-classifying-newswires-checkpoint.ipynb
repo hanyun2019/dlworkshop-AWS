{
 "cells": [
  {
   "cell_type": "code",
   "execution_count": 1,
   "metadata": {},
   "outputs": [
    {
     "name": "stderr",
     "output_type": "stream",
     "text": [
      "Using TensorFlow backend.\n"
     ]
    },
    {
     "data": {
      "text/plain": [
       "'2.3.1'"
      ]
     },
     "execution_count": 1,
     "metadata": {},
     "output_type": "execute_result"
    }
   ],
   "source": [
    "import keras\n",
    "keras.__version__"
   ]
  },
  {
   "cell_type": "markdown",
   "metadata": {},
   "source": [
    "# Classifying newswires: a multi-class classification example\n",
    "\n",
    "This notebook contains the code samples found in Chapter 3, Section 5 of [Deep Learning with Python](https://www.manning.com/books/deep-learning-with-python?a_aid=keras&a_bid=76564dff). Note that the original text features far more content, in particular further explanations and figures: in this notebook, you will only find source code and related comments.\n",
    "\n",
    "----\n",
    "\n",
    "In the previous section we saw how to classify vector inputs into two mutually exclusive classes using a densely-connected neural network. \n",
    "But what happens when you have more than two classes? \n",
    "\n",
    "In this section, we will build a network to classify Reuters newswires into 46 different mutually-exclusive topics. Since we have many \n",
    "classes, this problem is an instance of \"multi-class classification\", and since each data point should be classified into only one \n",
    "category, the problem is more specifically an instance of \"single-label, multi-class classification\". If each data point could have \n",
    "belonged to multiple categories (in our case, topics) then we would be facing a \"multi-label, multi-class classification\" problem."
   ]
  },
  {
   "cell_type": "markdown",
   "metadata": {},
   "source": [
    "## The Reuters dataset\n",
    "\n",
    "\n",
    "We will be working with the _Reuters dataset_, a set of short newswires and their topics, published by Reuters in 1986. It's a very simple, \n",
    "widely used toy dataset for text classification. There are 46 different topics; some topics are more represented than others, but each \n",
    "topic has at least 10 examples in the training set.\n",
    "\n",
    "Like IMDB and MNIST, the Reuters dataset comes packaged as part of Keras. Let's take a look right away:"
   ]
  },
  {
   "cell_type": "code",
   "execution_count": 3,
   "metadata": {},
   "outputs": [],
   "source": [
    "from keras.datasets import reuters\n",
    "\n",
    "(train_data, train_labels), (test_data, test_labels) = reuters.load_data(num_words=10000)"
   ]
  },
  {
   "cell_type": "markdown",
   "metadata": {},
   "source": [
    "\n",
    "Like with the IMDB dataset, the argument `num_words=10000` restricts the data to the 10,000 most frequently occurring words found in the \n",
    "data.\n",
    "\n",
    "We have 8,982 training examples and 2,246 test examples:"
   ]
  },
  {
   "cell_type": "code",
   "execution_count": 4,
   "metadata": {},
   "outputs": [
    {
     "data": {
      "text/plain": [
       "8982"
      ]
     },
     "execution_count": 4,
     "metadata": {},
     "output_type": "execute_result"
    }
   ],
   "source": [
    "len(train_data)"
   ]
  },
  {
   "cell_type": "code",
   "execution_count": 5,
   "metadata": {},
   "outputs": [
    {
     "data": {
      "text/plain": [
       "2246"
      ]
     },
     "execution_count": 5,
     "metadata": {},
     "output_type": "execute_result"
    }
   ],
   "source": [
    "len(test_data)"
   ]
  },
  {
   "cell_type": "markdown",
   "metadata": {},
   "source": [
    "As with the IMDB reviews, each example is a list of integers (word indices):"
   ]
  },
  {
   "cell_type": "code",
   "execution_count": 7,
   "metadata": {},
   "outputs": [
    {
     "data": {
      "text/plain": [
       "[1,\n",
       " 779,\n",
       " 37,\n",
       " 38,\n",
       " 465,\n",
       " 278,\n",
       " 6623,\n",
       " 55,\n",
       " 900,\n",
       " 6,\n",
       " 2,\n",
       " 172,\n",
       " 4,\n",
       " 2,\n",
       " 2,\n",
       " 66,\n",
       " 474,\n",
       " 10,\n",
       " 920,\n",
       " 24,\n",
       " 41,\n",
       " 6432,\n",
       " 9691,\n",
       " 1333,\n",
       " 136,\n",
       " 4,\n",
       " 37,\n",
       " 38,\n",
       " 309,\n",
       " 2276,\n",
       " 198,\n",
       " 2020,\n",
       " 364,\n",
       " 2061,\n",
       " 6,\n",
       " 439,\n",
       " 2249,\n",
       " 1327,\n",
       " 5,\n",
       " 37,\n",
       " 38,\n",
       " 465,\n",
       " 247,\n",
       " 348,\n",
       " 4,\n",
       " 460,\n",
       " 356,\n",
       " 990,\n",
       " 1589,\n",
       " 8,\n",
       " 136,\n",
       " 1053,\n",
       " 3373,\n",
       " 634,\n",
       " 330,\n",
       " 116,\n",
       " 2061,\n",
       " 1185,\n",
       " 6,\n",
       " 2,\n",
       " 198,\n",
       " 236,\n",
       " 1176,\n",
       " 6,\n",
       " 3037,\n",
       " 6448,\n",
       " 1693,\n",
       " 238,\n",
       " 1720,\n",
       " 990,\n",
       " 309,\n",
       " 415,\n",
       " 265,\n",
       " 5992,\n",
       " 8945,\n",
       " 1149,\n",
       " 9118,\n",
       " 23,\n",
       " 779,\n",
       " 10,\n",
       " 103,\n",
       " 5,\n",
       " 465,\n",
       " 278,\n",
       " 6623,\n",
       " 7,\n",
       " 42,\n",
       " 1267,\n",
       " 6,\n",
       " 6432,\n",
       " 4,\n",
       " 3373,\n",
       " 7,\n",
       " 269,\n",
       " 10,\n",
       " 583,\n",
       " 43,\n",
       " 6,\n",
       " 2070,\n",
       " 1762,\n",
       " 6,\n",
       " 30,\n",
       " 3069,\n",
       " 13,\n",
       " 4,\n",
       " 1185,\n",
       " 199,\n",
       " 8,\n",
       " 4,\n",
       " 6623,\n",
       " 348,\n",
       " 990,\n",
       " 313,\n",
       " 415,\n",
       " 265,\n",
       " 6016,\n",
       " 5731,\n",
       " 1149,\n",
       " 7108,\n",
       " 9816,\n",
       " 2,\n",
       " 1149,\n",
       " 2,\n",
       " 1460,\n",
       " 2,\n",
       " 1149,\n",
       " 2,\n",
       " 1251,\n",
       " 2,\n",
       " 1149,\n",
       " 2,\n",
       " 9,\n",
       " 2,\n",
       " 2,\n",
       " 1324,\n",
       " 6131,\n",
       " 75,\n",
       " 91,\n",
       " 2,\n",
       " 172,\n",
       " 4,\n",
       " 66,\n",
       " 474,\n",
       " 10,\n",
       " 1220,\n",
       " 6,\n",
       " 6592,\n",
       " 1968,\n",
       " 398,\n",
       " 9,\n",
       " 2841,\n",
       " 22,\n",
       " 342,\n",
       " 203,\n",
       " 4,\n",
       " 1220,\n",
       " 6132,\n",
       " 27,\n",
       " 2953,\n",
       " 2412,\n",
       " 2,\n",
       " 1324,\n",
       " 2775,\n",
       " 41,\n",
       " 6717,\n",
       " 4,\n",
       " 5513,\n",
       " 5,\n",
       " 182,\n",
       " 7,\n",
       " 4441,\n",
       " 552,\n",
       " 58,\n",
       " 45,\n",
       " 203,\n",
       " 62,\n",
       " 3045,\n",
       " 8091,\n",
       " 6,\n",
       " 37,\n",
       " 38,\n",
       " 398,\n",
       " 2,\n",
       " 474,\n",
       " 7718,\n",
       " 22,\n",
       " 10,\n",
       " 105,\n",
       " 534,\n",
       " 27,\n",
       " 4,\n",
       " 141,\n",
       " 66,\n",
       " 259,\n",
       " 24,\n",
       " 203,\n",
       " 22,\n",
       " 392,\n",
       " 5,\n",
       " 2043,\n",
       " 2,\n",
       " 51,\n",
       " 45,\n",
       " 1744,\n",
       " 8976,\n",
       " 9,\n",
       " 2478,\n",
       " 1968,\n",
       " 62,\n",
       " 2,\n",
       " 37,\n",
       " 38,\n",
       " 398,\n",
       " 4,\n",
       " 8315,\n",
       " 8749,\n",
       " 57,\n",
       " 4095,\n",
       " 392,\n",
       " 40,\n",
       " 2169,\n",
       " 3769,\n",
       " 898,\n",
       " 5,\n",
       " 2043,\n",
       " 6022,\n",
       " 31,\n",
       " 1744,\n",
       " 1968,\n",
       " 17,\n",
       " 12]"
      ]
     },
     "execution_count": 7,
     "metadata": {},
     "output_type": "execute_result"
    }
   ],
   "source": [
    "train_data[20]"
   ]
  },
  {
   "cell_type": "markdown",
   "metadata": {},
   "source": [
    "Here's how you can decode it back to words, in case you are curious:"
   ]
  },
  {
   "cell_type": "code",
   "execution_count": 8,
   "metadata": {},
   "outputs": [],
   "source": [
    "word_index = reuters.get_word_index()\n",
    "reverse_word_index = dict([(value, key) for (key, value) in word_index.items()])\n",
    "# Note that our indices were offset by 3\n",
    "# because 0, 1 and 2 are reserved indices for \"padding\", \"start of sequence\", and \"unknown\".\n",
    "decoded_newswire = ' '.join([reverse_word_index.get(i - 3, '?') for i in train_data[0]])"
   ]
  },
  {
   "cell_type": "code",
   "execution_count": 9,
   "metadata": {},
   "outputs": [
    {
     "data": {
      "text/plain": [
       "'? ? ? said as a result of its december acquisition of space co it expects earnings per share in 1987 of 1 15 to 1 30 dlrs per share up from 70 cts in 1986 the company said pretax net should rise to nine to 10 mln dlrs from six mln dlrs in 1986 and rental operation revenues to 19 to 22 mln dlrs from 12 5 mln dlrs it said cash flow per share this year should be 2 50 to three dlrs reuter 3'"
      ]
     },
     "execution_count": 9,
     "metadata": {},
     "output_type": "execute_result"
    }
   ],
   "source": [
    "decoded_newswire"
   ]
  },
  {
   "cell_type": "markdown",
   "metadata": {},
   "source": [
    "The label associated with an example is an integer between 0 and 45: a topic index."
   ]
  },
  {
   "cell_type": "code",
   "execution_count": null,
   "metadata": {},
   "outputs": [
    {
     "data": {
      "text/plain": [
       "11"
      ]
     },
     "execution_count": 11,
     "metadata": {},
     "output_type": "execute_result"
    }
   ],
   "source": [
    "train_labels[20]"
   ]
  },
  {
   "cell_type": "markdown",
   "metadata": {},
   "source": [
    "## Preparing the data\n",
    "\n",
    "We can vectorize the data with the exact same code as in our previous example:"
   ]
  },
  {
   "cell_type": "code",
   "execution_count": 29,
   "metadata": {},
   "outputs": [],
   "source": [
    "import numpy as np\n",
    "\n",
    "def vectorize_sequences(sequences, dimension=10000):\n",
    "    results = np.zeros((len(sequences), dimension))\n",
    "    for i, sequence in enumerate(sequences):\n",
    "        results[i, sequence] = 1.\n",
    "    return results\n",
    "\n",
    "# Our vectorized training data\n",
    "x_train = vectorize_sequences(train_data)\n",
    "# Our vectorized test data\n",
    "x_test = vectorize_sequences(test_data)"
   ]
  },
  {
   "cell_type": "markdown",
   "metadata": {},
   "source": [
    "\n",
    "To vectorize the labels, there are two possibilities: we could just cast the label list as an integer tensor, or we could use a \"one-hot\" \n",
    "encoding. One-hot encoding is a widely used format for categorical data, also called \"categorical encoding\". \n",
    "For a more detailed explanation of one-hot encoding, you can refer to Chapter 6, Section 1. \n",
    "In our case, one-hot encoding of our labels consists in embedding each label as an all-zero vector with a 1 in the place of the label index, e.g.:"
   ]
  },
  {
   "cell_type": "code",
   "execution_count": 30,
   "metadata": {},
   "outputs": [],
   "source": [
    "def to_one_hot(labels, dimension=46):\n",
    "    results = np.zeros((len(labels), dimension))\n",
    "    for i, label in enumerate(labels):\n",
    "        results[i, label] = 1.\n",
    "    return results\n",
    "\n",
    "# Our vectorized training labels\n",
    "one_hot_train_labels = to_one_hot(train_labels)\n",
    "# Our vectorized test labels\n",
    "one_hot_test_labels = to_one_hot(test_labels)"
   ]
  },
  {
   "cell_type": "markdown",
   "metadata": {},
   "source": [
    "Note that there is a built-in way to do this in Keras, which you have already seen in action in our MNIST example:"
   ]
  },
  {
   "cell_type": "code",
   "execution_count": 31,
   "metadata": {},
   "outputs": [],
   "source": [
    "from keras.utils.np_utils import to_categorical\n",
    "\n",
    "one_hot_train_labels = to_categorical(train_labels)\n",
    "one_hot_test_labels = to_categorical(test_labels)"
   ]
  },
  {
   "cell_type": "markdown",
   "metadata": {},
   "source": [
    "## Building our network\n",
    "\n",
    "\n",
    "This topic classification problem looks very similar to our previous movie review classification problem: in both cases, we are trying to \n",
    "classify short snippets of text. There is however a new constraint here: the number of output classes has gone from 2 to 46, i.e. the \n",
    "dimensionality of the output space is much larger. \n",
    "\n",
    "In a stack of `Dense` layers like what we were using, each layer can only access information present in the output of the previous layer. \n",
    "If one layer drops some information relevant to the classification problem, this information can never be recovered by later layers: each \n",
    "layer can potentially become an \"information bottleneck\". In our previous example, we were using 16-dimensional intermediate layers, but a \n",
    "16-dimensional space may be too limited to learn to separate 46 different classes: such small layers may act as information bottlenecks, \n",
    "permanently dropping relevant information.\n",
    "\n",
    "For this reason we will use larger layers. Let's go with 64 units:"
   ]
  },
  {
   "cell_type": "code",
   "execution_count": 32,
   "metadata": {},
   "outputs": [],
   "source": [
    "from keras import models\n",
    "from keras import layers\n",
    "\n",
    "model = models.Sequential()\n",
    "model.add(layers.Dense(64, activation='relu', input_shape=(10000,)))\n",
    "model.add(layers.Dense(64, activation='relu'))\n",
    "model.add(layers.Dense(46, activation='softmax'))"
   ]
  },
  {
   "cell_type": "markdown",
   "metadata": {},
   "source": [
    "\n",
    "There are two other things you should note about this architecture:\n",
    "\n",
    "* We are ending the network with a `Dense` layer of size 46. This means that for each input sample, our network will output a \n",
    "46-dimensional vector. Each entry in this vector (each dimension) will encode a different output class.\n",
    "* The last layer uses a `softmax` activation. You have already seen this pattern in the MNIST example. It means that the network will \n",
    "output a _probability distribution_ over the 46 different output classes, i.e. for every input sample, the network will produce a \n",
    "46-dimensional output vector where `output[i]` is the probability that the sample belongs to class `i`. The 46 scores will sum to 1.\n",
    "\n",
    "The best loss function to use in this case is `categorical_crossentropy`. It measures the distance between two probability distributions: \n",
    "in our case, between the probability distribution output by our network, and the true distribution of the labels. By minimizing the \n",
    "distance between these two distributions, we train our network to output something as close as possible to the true labels."
   ]
  },
  {
   "cell_type": "code",
   "execution_count": 33,
   "metadata": {},
   "outputs": [],
   "source": [
    "model.compile(optimizer='rmsprop',\n",
    "              loss='categorical_crossentropy',\n",
    "              metrics=['accuracy'])"
   ]
  },
  {
   "cell_type": "markdown",
   "metadata": {},
   "source": [
    "## Validating our approach\n",
    "\n",
    "Let's set apart 1,000 samples in our training data to use as a validation set:"
   ]
  },
  {
   "cell_type": "code",
   "execution_count": 34,
   "metadata": {},
   "outputs": [],
   "source": [
    "x_val = x_train[:1000]\n",
    "partial_x_train = x_train[1000:]\n",
    "\n",
    "y_val = one_hot_train_labels[:1000]\n",
    "partial_y_train = one_hot_train_labels[1000:]"
   ]
  },
  {
   "cell_type": "markdown",
   "metadata": {},
   "source": [
    "Now let's train our network for 20 epochs:"
   ]
  },
  {
   "cell_type": "code",
   "execution_count": 35,
   "metadata": {},
   "outputs": [
    {
     "name": "stdout",
     "output_type": "stream",
     "text": [
      "Train on 7982 samples, validate on 1000 samples\n",
      "Epoch 1/20\n",
      "7982/7982 [==============================] - 1s 93us/step - loss: 2.7482 - accuracy: 0.5222 - val_loss: 1.7886 - val_accuracy: 0.6300\n",
      "Epoch 2/20\n",
      "7982/7982 [==============================] - 1s 68us/step - loss: 1.4612 - accuracy: 0.7007 - val_loss: 1.3123 - val_accuracy: 0.7060\n",
      "Epoch 3/20\n",
      "7982/7982 [==============================] - 1s 66us/step - loss: 1.0774 - accuracy: 0.7719 - val_loss: 1.1301 - val_accuracy: 0.7570\n",
      "Epoch 4/20\n",
      "7982/7982 [==============================] - 1s 67us/step - loss: 0.8486 - accuracy: 0.8186 - val_loss: 1.0295 - val_accuracy: 0.7770\n",
      "Epoch 5/20\n",
      "7982/7982 [==============================] - 1s 67us/step - loss: 0.6797 - accuracy: 0.8550 - val_loss: 0.9717 - val_accuracy: 0.7840\n",
      "Epoch 6/20\n",
      "7982/7982 [==============================] - 1s 67us/step - loss: 0.5477 - accuracy: 0.8830 - val_loss: 0.9252 - val_accuracy: 0.8030\n",
      "Epoch 7/20\n",
      "7982/7982 [==============================] - 1s 66us/step - loss: 0.4406 - accuracy: 0.9059 - val_loss: 0.9141 - val_accuracy: 0.8090\n",
      "Epoch 8/20\n",
      "7982/7982 [==============================] - 1s 66us/step - loss: 0.3608 - accuracy: 0.9213 - val_loss: 0.8702 - val_accuracy: 0.8270\n",
      "Epoch 9/20\n",
      "7982/7982 [==============================] - 1s 66us/step - loss: 0.3009 - accuracy: 0.9327 - val_loss: 0.8806 - val_accuracy: 0.8180\n",
      "Epoch 10/20\n",
      "7982/7982 [==============================] - 1s 66us/step - loss: 0.2494 - accuracy: 0.9417 - val_loss: 0.9055 - val_accuracy: 0.8140\n",
      "Epoch 11/20\n",
      "7982/7982 [==============================] - 1s 67us/step - loss: 0.2210 - accuracy: 0.9461 - val_loss: 0.9031 - val_accuracy: 0.8190\n",
      "Epoch 12/20\n",
      "7982/7982 [==============================] - 1s 67us/step - loss: 0.1913 - accuracy: 0.9503 - val_loss: 0.9200 - val_accuracy: 0.8110\n",
      "Epoch 13/20\n",
      "7982/7982 [==============================] - 1s 67us/step - loss: 0.1701 - accuracy: 0.9539 - val_loss: 0.9497 - val_accuracy: 0.8110\n",
      "Epoch 14/20\n",
      "7982/7982 [==============================] - 1s 66us/step - loss: 0.1564 - accuracy: 0.9554 - val_loss: 0.9461 - val_accuracy: 0.8160\n",
      "Epoch 15/20\n",
      "7982/7982 [==============================] - 1s 67us/step - loss: 0.1424 - accuracy: 0.9573 - val_loss: 0.9721 - val_accuracy: 0.8030\n",
      "Epoch 16/20\n",
      "7982/7982 [==============================] - 1s 67us/step - loss: 0.1325 - accuracy: 0.9567 - val_loss: 0.9878 - val_accuracy: 0.8070\n",
      "Epoch 17/20\n",
      "7982/7982 [==============================] - 1s 67us/step - loss: 0.1316 - accuracy: 0.9539 - val_loss: 0.9664 - val_accuracy: 0.8130\n",
      "Epoch 18/20\n",
      "7982/7982 [==============================] - 1s 66us/step - loss: 0.1202 - accuracy: 0.9568 - val_loss: 0.9961 - val_accuracy: 0.8120\n",
      "Epoch 19/20\n",
      "7982/7982 [==============================] - 1s 67us/step - loss: 0.1165 - accuracy: 0.9573 - val_loss: 1.0654 - val_accuracy: 0.8000\n",
      "Epoch 20/20\n",
      "7982/7982 [==============================] - 1s 67us/step - loss: 0.1095 - accuracy: 0.9579 - val_loss: 1.0688 - val_accuracy: 0.8050\n"
     ]
    }
   ],
   "source": [
    "history = model.fit(partial_x_train,\n",
    "                    partial_y_train,\n",
    "                    epochs=20,\n",
    "                    batch_size=512,\n",
    "                    validation_data=(x_val, y_val))"
   ]
  },
  {
   "cell_type": "markdown",
   "metadata": {},
   "source": [
    "Let's display its loss and accuracy curves:"
   ]
  },
  {
   "cell_type": "code",
   "execution_count": 38,
   "metadata": {},
   "outputs": [
    {
     "data": {
      "text/plain": [
       "dict_keys(['val_loss', 'val_accuracy', 'loss', 'accuracy'])"
      ]
     },
     "execution_count": 38,
     "metadata": {},
     "output_type": "execute_result"
    }
   ],
   "source": [
    "history_dict = history.history\n",
    "history_dict.keys()"
   ]
  },
  {
   "cell_type": "code",
   "execution_count": 36,
   "metadata": {},
   "outputs": [
    {
     "data": {
      "image/png": "[encoded data removed]",
      "text/plain": [
       "<Figure size 432x288 with 1 Axes>"
      ]
     },
     "metadata": {
      "needs_background": "light"
     },
     "output_type": "display_data"
    }
   ],
   "source": [
    "import matplotlib.pyplot as plt\n",
    "\n",
    "loss = history.history['loss']\n",
    "val_loss = history.history['val_loss']\n",
    "\n",
    "epochs = range(1, len(loss) + 1)\n",
    "\n",
    "plt.plot(epochs, loss, 'bo', label='Training loss')\n",
    "plt.plot(epochs, val_loss, 'b', label='Validation loss')\n",
    "plt.title('Training and validation loss')\n",
    "plt.xlabel('Epochs')\n",
    "plt.ylabel('Loss')\n",
    "plt.legend()\n",
    "\n",
    "plt.show()"
   ]
  },
  {
   "cell_type": "code",
   "execution_count": null,
   "metadata": {},
   "outputs": [],
   "source": [
    "plt.clf()   # clear figure\n",
    "\n",
    "# acc = history.history['acc']\n",
    "# val_acc = history.history['val_acc']\n",
    "\n",
    "acc = history.history['accuracy']\n",
    "val_acc = history.history['val_accuracy']\n",
    "\n",
    "plt.plot(epochs, acc, 'bo', label='Training acc')\n",
    "plt.plot(epochs, val_acc, 'b', label='Validation acc')\n",
    "plt.title('Training and validation accuracy')\n",
    "plt.xlabel('Epochs')\n",
    "plt.ylabel('Loss')\n",
    "plt.legend()\n",
    "\n",
    "plt.show()"
   ]
  },
  {
   "cell_type": "markdown",
   "metadata": {},
   "source": [
    "It seems that the network starts overfitting after 8 epochs. Let's train a new network from scratch for 8 epochs, then let's evaluate it on \n",
    "the test set:"
   ]
  },
  {
   "cell_type": "code",
   "execution_count": 17,
   "metadata": {},
   "outputs": [
    {
     "name": "stdout",
     "output_type": "stream",
     "text": [
      "Train on 7982 samples, validate on 1000 samples\n",
      "Epoch 1/8\n",
      "7982/7982 [==============================] - 1s 76us/step - loss: 2.8039 - accuracy: 0.5162 - val_loss: 1.9066 - val_accuracy: 0.6390\n",
      "Epoch 2/8\n",
      "7982/7982 [==============================] - 1s 67us/step - loss: 1.5264 - accuracy: 0.6967 - val_loss: 1.3552 - val_accuracy: 0.7140\n",
      "Epoch 3/8\n",
      "7982/7982 [==============================] - 1s 67us/step - loss: 1.0899 - accuracy: 0.7696 - val_loss: 1.1476 - val_accuracy: 0.7540\n",
      "Epoch 4/8\n",
      "7982/7982 [==============================] - 1s 67us/step - loss: 0.8466 - accuracy: 0.8237 - val_loss: 1.0460 - val_accuracy: 0.7770\n",
      "Epoch 5/8\n",
      "7982/7982 [==============================] - 1s 67us/step - loss: 0.6805 - accuracy: 0.8555 - val_loss: 0.9731 - val_accuracy: 0.8010\n",
      "Epoch 6/8\n",
      "7982/7982 [==============================] - 1s 67us/step - loss: 0.5475 - accuracy: 0.8898 - val_loss: 0.9620 - val_accuracy: 0.8010\n",
      "Epoch 7/8\n",
      "7982/7982 [==============================] - 1s 67us/step - loss: 0.4395 - accuracy: 0.9100 - val_loss: 0.9172 - val_accuracy: 0.8140\n",
      "Epoch 8/8\n",
      "7982/7982 [==============================] - 1s 67us/step - loss: 0.3560 - accuracy: 0.9247 - val_loss: 0.9036 - val_accuracy: 0.8110\n",
      "2246/2246 [==============================] - 0s 57us/step\n"
     ]
    }
   ],
   "source": [
    "model = models.Sequential()\n",
    "model.add(layers.Dense(64, activation='relu', input_shape=(10000,)))\n",
    "model.add(layers.Dense(64, activation='relu'))\n",
    "model.add(layers.Dense(46, activation='softmax'))\n",
    "\n",
    "model.compile(optimizer='rmsprop',\n",
    "              loss='categorical_crossentropy',\n",
    "              metrics=['accuracy'])\n",
    "model.fit(partial_x_train,\n",
    "          partial_y_train,\n",
    "          epochs=8,\n",
    "          batch_size=512,\n",
    "          validation_data=(x_val, y_val))\n",
    "results = model.evaluate(x_test, one_hot_test_labels)"
   ]
  },
  {
   "cell_type": "code",
   "execution_count": 18,
   "metadata": {},
   "outputs": [
    {
     "data": {
      "text/plain": [
       "[0.9733378250261342, 0.7853962779045105]"
      ]
     },
     "execution_count": 18,
     "metadata": {},
     "output_type": "execute_result"
    }
   ],
   "source": [
    "results"
   ]
  },
  {
   "cell_type": "markdown",
   "metadata": {},
   "source": [
    "\n",
    "Our approach reaches an accuracy of ~78%. With a balanced binary classification problem, the accuracy reached by a purely random classifier \n",
    "would be 50%, but in our case it is closer to 19%, so our results seem pretty good, at least when compared to a random baseline:"
   ]
  },
  {
   "cell_type": "code",
   "execution_count": 19,
   "metadata": {},
   "outputs": [
    {
     "data": {
      "text/plain": [
       "0.19634906500445237"
      ]
     },
     "execution_count": 19,
     "metadata": {},
     "output_type": "execute_result"
    }
   ],
   "source": [
    "import copy\n",
    "\n",
    "test_labels_copy = copy.copy(test_labels)\n",
    "np.random.shuffle(test_labels_copy)\n",
    "float(np.sum(np.array(test_labels) == np.array(test_labels_copy))) / len(test_labels)"
   ]
  },
  {
   "cell_type": "markdown",
   "metadata": {},
   "source": [
    "## Generating predictions on new data\n",
    "\n",
    "We can verify that the `predict` method of our model instance returns a probability distribution over all 46 topics. Let's generate topic \n",
    "predictions for all of the test data:"
   ]
  },
  {
   "cell_type": "code",
   "execution_count": 20,
   "metadata": {},
   "outputs": [],
   "source": [
    "predictions = model.predict(x_test)"
   ]
  },
  {
   "cell_type": "markdown",
   "metadata": {},
   "source": [
    "Each entry in `predictions` is a vector of length 46:"
   ]
  },
  {
   "cell_type": "code",
   "execution_count": 21,
   "metadata": {},
   "outputs": [
    {
     "data": {
      "text/plain": [
       "(46,)"
      ]
     },
     "execution_count": 21,
     "metadata": {},
     "output_type": "execute_result"
    }
   ],
   "source": [
    "predictions[0].shape"
   ]
  },
  {
   "cell_type": "markdown",
   "metadata": {},
   "source": [
    "The coefficients in this vector sum to 1:"
   ]
  },
  {
   "cell_type": "code",
   "execution_count": 22,
   "metadata": {},
   "outputs": [
    {
     "data": {
      "text/plain": [
       "0.99999994"
      ]
     },
     "execution_count": 22,
     "metadata": {},
     "output_type": "execute_result"
    }
   ],
   "source": [
    "np.sum(predictions[0])"
   ]
  },
  {
   "cell_type": "markdown",
   "metadata": {},
   "source": [
    "The largest entry is the predicted class, i.e. the class with the highest probability:"
   ]
  },
  {
   "cell_type": "code",
   "execution_count": 23,
   "metadata": {},
   "outputs": [
    {
     "data": {
      "text/plain": [
       "3"
      ]
     },
     "execution_count": 23,
     "metadata": {},
     "output_type": "execute_result"
    }
   ],
   "source": [
    "np.argmax(predictions[0])"
   ]
  },
  {
   "cell_type": "markdown",
   "metadata": {},
   "source": [
    "## A different way to handle the labels and the loss\n",
    "\n",
    "We mentioned earlier that another way to encode the labels would be to cast them as an integer tensor, like such:"
   ]
  },
  {
   "cell_type": "code",
   "execution_count": 24,
   "metadata": {},
   "outputs": [],
   "source": [
    "y_train = np.array(train_labels)\n",
    "y_test = np.array(test_labels)"
   ]
  },
  {
   "cell_type": "markdown",
   "metadata": {},
   "source": [
    "\n",
    "The only thing it would change is the choice of the loss function. Our previous loss, `categorical_crossentropy`, expects the labels to \n",
    "follow a categorical encoding. With integer labels, we should use `sparse_categorical_crossentropy`:"
   ]
  },
  {
   "cell_type": "code",
   "execution_count": 25,
   "metadata": {},
   "outputs": [],
   "source": [
    "model.compile(optimizer='rmsprop', loss='sparse_categorical_crossentropy', metrics=['acc'])"
   ]
  },
  {
   "cell_type": "markdown",
   "metadata": {},
   "source": [
    "This new loss function is still mathematically the same as `categorical_crossentropy`; it just has a different interface."
   ]
  },
  {
   "cell_type": "markdown",
   "metadata": {},
   "source": [
    "## On the importance of having sufficiently large intermediate layers\n",
    "\n",
    "\n",
    "We mentioned earlier that since our final outputs were 46-dimensional, we should avoid intermediate layers with much less than 46 hidden \n",
    "units. Now let's try to see what happens when we introduce an information bottleneck by having intermediate layers significantly less than \n",
    "46-dimensional, e.g. 4-dimensional."
   ]
  },
  {
   "cell_type": "code",
   "execution_count": 26,
   "metadata": {},
   "outputs": [
    {
     "name": "stdout",
     "output_type": "stream",
     "text": [
      "Train on 7982 samples, validate on 1000 samples\n",
      "Epoch 1/20\n",
      "7982/7982 [==============================] - 1s 91us/step - loss: 3.1480 - accuracy: 0.2150 - val_loss: 2.6186 - val_accuracy: 0.2850\n",
      "Epoch 2/20\n",
      "7982/7982 [==============================] - 1s 81us/step - loss: 2.1109 - accuracy: 0.4949 - val_loss: 1.6845 - val_accuracy: 0.6350\n",
      "Epoch 3/20\n",
      "7982/7982 [==============================] - 1s 82us/step - loss: 1.4295 - accuracy: 0.6513 - val_loss: 1.4093 - val_accuracy: 0.6500\n",
      "Epoch 4/20\n",
      "7982/7982 [==============================] - 1s 80us/step - loss: 1.1977 - accuracy: 0.6844 - val_loss: 1.3081 - val_accuracy: 0.6770\n",
      "Epoch 5/20\n",
      "7982/7982 [==============================] - 1s 79us/step - loss: 1.0370 - accuracy: 0.7413 - val_loss: 1.2724 - val_accuracy: 0.7090\n",
      "Epoch 6/20\n",
      "7982/7982 [==============================] - 1s 80us/step - loss: 0.9223 - accuracy: 0.7647 - val_loss: 1.2196 - val_accuracy: 0.7250\n",
      "Epoch 7/20\n",
      "7982/7982 [==============================] - 1s 81us/step - loss: 0.8372 - accuracy: 0.7813 - val_loss: 1.2322 - val_accuracy: 0.7250\n",
      "Epoch 8/20\n",
      "7982/7982 [==============================] - 1s 80us/step - loss: 0.7685 - accuracy: 0.7932 - val_loss: 1.2234 - val_accuracy: 0.7140\n",
      "Epoch 9/20\n",
      "7982/7982 [==============================] - 1s 81us/step - loss: 0.7073 - accuracy: 0.8108 - val_loss: 1.2531 - val_accuracy: 0.7210\n",
      "Epoch 10/20\n",
      "7982/7982 [==============================] - 1s 80us/step - loss: 0.6539 - accuracy: 0.8266 - val_loss: 1.2806 - val_accuracy: 0.7190\n",
      "Epoch 11/20\n",
      "7982/7982 [==============================] - 1s 80us/step - loss: 0.6102 - accuracy: 0.8365 - val_loss: 1.3097 - val_accuracy: 0.7180\n",
      "Epoch 12/20\n",
      "7982/7982 [==============================] - 1s 82us/step - loss: 0.5690 - accuracy: 0.8504 - val_loss: 1.3599 - val_accuracy: 0.7160\n",
      "Epoch 13/20\n",
      "7982/7982 [==============================] - 1s 81us/step - loss: 0.5360 - accuracy: 0.8577 - val_loss: 1.3846 - val_accuracy: 0.7170\n",
      "Epoch 14/20\n",
      "7982/7982 [==============================] - 1s 82us/step - loss: 0.5059 - accuracy: 0.8637 - val_loss: 1.4124 - val_accuracy: 0.7140\n",
      "Epoch 15/20\n",
      "7982/7982 [==============================] - 1s 82us/step - loss: 0.4794 - accuracy: 0.8691 - val_loss: 1.4490 - val_accuracy: 0.7130\n",
      "Epoch 16/20\n",
      "7982/7982 [==============================] - 1s 80us/step - loss: 0.4555 - accuracy: 0.8758 - val_loss: 1.5214 - val_accuracy: 0.7200\n",
      "Epoch 17/20\n",
      "7982/7982 [==============================] - 1s 79us/step - loss: 0.4353 - accuracy: 0.8812 - val_loss: 1.5521 - val_accuracy: 0.7130\n",
      "Epoch 18/20\n",
      "7982/7982 [==============================] - 1s 81us/step - loss: 0.4146 - accuracy: 0.8882 - val_loss: 1.6182 - val_accuracy: 0.7190\n",
      "Epoch 19/20\n",
      "7982/7982 [==============================] - 1s 80us/step - loss: 0.3985 - accuracy: 0.8920 - val_loss: 1.6807 - val_accuracy: 0.7140\n",
      "Epoch 20/20\n",
      "7982/7982 [==============================] - 1s 81us/step - loss: 0.3839 - accuracy: 0.8976 - val_loss: 1.7148 - val_accuracy: 0.7060\n"
     ]
    },
    {
     "data": {
      "text/plain": [
       "<keras.callbacks.callbacks.History at 0x7f1c6e405e50>"
      ]
     },
     "execution_count": 26,
     "metadata": {},
     "output_type": "execute_result"
    }
   ],
   "source": [
    "model = models.Sequential()\n",
    "model.add(layers.Dense(64, activation='relu', input_shape=(10000,)))\n",
    "model.add(layers.Dense(4, activation='relu'))\n",
    "model.add(layers.Dense(46, activation='softmax'))\n",
    "\n",
    "model.compile(optimizer='rmsprop',\n",
    "              loss='categorical_crossentropy',\n",
    "              metrics=['accuracy'])\n",
    "model.fit(partial_x_train,\n",
    "          partial_y_train,\n",
    "          epochs=20,\n",
    "          batch_size=128,\n",
    "          validation_data=(x_val, y_val))"
   ]
  },
  {
   "cell_type": "markdown",
   "metadata": {},
   "source": [
    "\n",
    "Our network now seems to peak at ~71% test accuracy, a 8% absolute drop. This drop is mostly due to the fact that we are now trying to \n",
    "compress a lot of information (enough information to recover the separation hyperplanes of 46 classes) into an intermediate space that is \n",
    "too low-dimensional. The network is able to cram _most_ of the necessary information into these 8-dimensional representations, but not all \n",
    "of it."
   ]
  },
  {
   "cell_type": "markdown",
   "metadata": {},
   "source": [
    "## Further experiments\n",
    "\n",
    "* Try using larger or smaller layers: 32 units, 128 units...\n",
    "* We were using two hidden layers. Now try to use a single hidden layer, or three hidden layers."
   ]
  },
  {
   "cell_type": "markdown",
   "metadata": {},
   "source": [
    "## Wrapping up\n",
    "\n",
    "\n",
    "Here's what you should take away from this example:\n",
    "\n",
    "* If you are trying to classify data points between N classes, your network should end with a `Dense` layer of size N.\n",
    "* In a single-label, multi-class classification problem, your network should end with a `softmax` activation, so that it will output a \n",
    "probability distribution over the N output classes.\n",
    "* _Categorical crossentropy_ is almost always the loss function you should use for such problems. It minimizes the distance between the \n",
    "probability distributions output by the network, and the true distribution of the targets.\n",
    "* There are two ways to handle labels in multi-class classification:\n",
    "    ** Encoding the labels via \"categorical encoding\" (also known as \"one-hot encoding\") and using `categorical_crossentropy` as your loss \n",
    "function.\n",
    "    ** Encoding the labels as integers and using the `sparse_categorical_crossentropy` loss function.\n",
    "* If you need to classify data into a large number of categories, then you should avoid creating information bottlenecks in your network by having \n",
    "intermediate layers that are too small."
   ]
  }
 ],
 "metadata": {
  "kernelspec": {
   "display_name": "Python 3",
   "language": "python",
   "name": "python3"
  },
  "language_info": {
   "codemirror_mode": {
    "name": "ipython",
    "version": 3
   },
   "file_extension": ".py",
   "mimetype": "text/x-python",
   "name": "python",
   "nbconvert_exporter": "python",
   "pygments_lexer": "ipython3",
   "version": "3.7.4"
  }
 },
 "nbformat": 4,
 "nbformat_minor": 2
}
